{
  "nbformat": 4,
  "nbformat_minor": 0,
  "metadata": {
    "colab": {
      "name": "Google_Play_Store_Project.ipynb",
      "provenance": []
    },
    "kernelspec": {
      "name": "python3",
      "display_name": "Python 3"
    },
    "language_info": {
      "name": "python"
    }
  },
  "cells": [
    {
      "cell_type": "code",
      "execution_count": 1,
      "metadata": {
        "id": "_-zZ5WD__wzj"
      },
      "outputs": [],
      "source": [
        "#SriHarsha Marella #Heena Jain #Anusha Balakavi "
      ]
    },
    {
      "cell_type": "code",
      "source": [
        "import os\n",
        "import pandas as pd\n",
        "import numpy as np\n",
        "import seaborn as sns\n",
        "import warnings\n",
        "import matplotlib.pyplot as plt\n",
        "warnings.filterwarnings(\"ignore\")\n",
        "%matplotlib inline"
      ],
      "metadata": {
        "id": "GovF4oRccDZE"
      },
      "execution_count": 61,
      "outputs": []
    },
    {
      "cell_type": "code",
      "source": [
        "os.getcwd()"
      ],
      "metadata": {
        "colab": {
          "base_uri": "https://localhost:8080/",
          "height": 35
        },
        "id": "XLKrXbboCDqb",
        "outputId": "28337b84-b6fb-4a2b-f74c-523fb2a8e689"
      },
      "execution_count": 2,
      "outputs": [
        {
          "output_type": "execute_result",
          "data": {
            "application/vnd.google.colaboratory.intrinsic+json": {
              "type": "string"
            },
            "text/plain": [
              "'/content'"
            ]
          },
          "metadata": {},
          "execution_count": 2
        }
      ]
    },
    {
      "cell_type": "code",
      "source": [
        "#Set ipython's max row display\n",
        "pd.set_option('display.max_row',1000)\n",
        "\n",
        "#Set iPython's max column width to 50\n",
        "pd.set_option('display.max_columns',50)"
      ],
      "metadata": {
        "id": "dPvkJHgYCHRa"
      },
      "execution_count": 3,
      "outputs": []
    },
    {
      "cell_type": "code",
      "source": [
        "from google.colab import files\n",
        "\n",
        "uploaded = files.upload()\n"
      ],
      "metadata": {
        "colab": {
          "resources": {
            "http://localhost:8080/nbextensions/google.colab/files.js": {
              "data": "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",
              "ok": true,
              "headers": [
                [
                  "content-type",
                  "application/javascript"
                ]
              ],
              "status": 200,
              "status_text": ""
            }
          },
          "base_uri": "https://localhost:8080/",
          "height": 73
        },
        "id": "6KGIUS85EBjT",
        "outputId": "7615ecd3-6aa9-47cc-bc5d-191ac4bc778c"
      },
      "execution_count": 4,
      "outputs": [
        {
          "output_type": "display_data",
          "data": {
            "text/html": [
              "\n",
              "     <input type=\"file\" id=\"files-a029e6db-e841-4184-b963-98ae8ba69185\" name=\"files[]\" multiple disabled\n",
              "        style=\"border:none\" />\n",
              "     <output id=\"result-a029e6db-e841-4184-b963-98ae8ba69185\">\n",
              "      Upload widget is only available when the cell has been executed in the\n",
              "      current browser session. Please rerun this cell to enable.\n",
              "      </output>\n",
              "      <script src=\"/nbextensions/google.colab/files.js\"></script> "
            ],
            "text/plain": [
              "<IPython.core.display.HTML object>"
            ]
          },
          "metadata": {}
        },
        {
          "output_type": "stream",
          "name": "stdout",
          "text": [
            "Saving googleplaystore.csv to googleplaystore.csv\n"
          ]
        }
      ]
    },
    {
      "cell_type": "code",
      "source": [
        "df=pd.read_csv('googleplaystore.csv')"
      ],
      "metadata": {
        "id": "kOOAJpcJFAn8"
      },
      "execution_count": 5,
      "outputs": []
    },
    {
      "cell_type": "code",
      "source": [
        "df.head(10)"
      ],
      "metadata": {
        "colab": {
          "base_uri": "https://localhost:8080/",
          "height": 563
        },
        "id": "Nw2wQwtSHMIp",
        "outputId": "388be408-9db0-4b4e-9a9a-f576f6781019"
      },
      "execution_count": 6,
      "outputs": [
        {
          "output_type": "execute_result",
          "data": {
            "text/html": [
              "\n",
              "  <div id=\"df-05c4a533-d840-44a4-8f4b-2ff87c946b31\">\n",
              "    <div class=\"colab-df-container\">\n",
              "      <div>\n",
              "<style scoped>\n",
              "    .dataframe tbody tr th:only-of-type {\n",
              "        vertical-align: middle;\n",
              "    }\n",
              "\n",
              "    .dataframe tbody tr th {\n",
              "        vertical-align: top;\n",
              "    }\n",
              "\n",
              "    .dataframe thead th {\n",
              "        text-align: right;\n",
              "    }\n",
              "</style>\n",
              "<table border=\"1\" class=\"dataframe\">\n",
              "  <thead>\n",
              "    <tr style=\"text-align: right;\">\n",
              "      <th></th>\n",
              "      <th>App</th>\n",
              "      <th>Category</th>\n",
              "      <th>Rating</th>\n",
              "      <th>Reviews</th>\n",
              "      <th>Size</th>\n",
              "      <th>Installs</th>\n",
              "      <th>Type</th>\n",
              "      <th>Price</th>\n",
              "      <th>Content Rating</th>\n",
              "      <th>Genres</th>\n",
              "      <th>Last Updated</th>\n",
              "      <th>Current Ver</th>\n",
              "      <th>Android Ver</th>\n",
              "    </tr>\n",
              "  </thead>\n",
              "  <tbody>\n",
              "    <tr>\n",
              "      <th>0</th>\n",
              "      <td>Photo Editor &amp; Candy Camera &amp; Grid &amp; ScrapBook</td>\n",
              "      <td>ART_AND_DESIGN</td>\n",
              "      <td>4.1</td>\n",
              "      <td>159</td>\n",
              "      <td>19M</td>\n",
              "      <td>10,000+</td>\n",
              "      <td>Free</td>\n",
              "      <td>0</td>\n",
              "      <td>Everyone</td>\n",
              "      <td>Art &amp; Design</td>\n",
              "      <td>January 7, 2018</td>\n",
              "      <td>1.0.0</td>\n",
              "      <td>4.0.3 and up</td>\n",
              "    </tr>\n",
              "    <tr>\n",
              "      <th>1</th>\n",
              "      <td>Coloring book moana</td>\n",
              "      <td>ART_AND_DESIGN</td>\n",
              "      <td>3.9</td>\n",
              "      <td>967</td>\n",
              "      <td>14M</td>\n",
              "      <td>500,000+</td>\n",
              "      <td>Free</td>\n",
              "      <td>0</td>\n",
              "      <td>Everyone</td>\n",
              "      <td>Art &amp; Design;Pretend Play</td>\n",
              "      <td>January 15, 2018</td>\n",
              "      <td>2.0.0</td>\n",
              "      <td>4.0.3 and up</td>\n",
              "    </tr>\n",
              "    <tr>\n",
              "      <th>2</th>\n",
              "      <td>U Launcher Lite – FREE Live Cool Themes, Hide ...</td>\n",
              "      <td>ART_AND_DESIGN</td>\n",
              "      <td>4.7</td>\n",
              "      <td>87510</td>\n",
              "      <td>8.7M</td>\n",
              "      <td>5,000,000+</td>\n",
              "      <td>Free</td>\n",
              "      <td>0</td>\n",
              "      <td>Everyone</td>\n",
              "      <td>Art &amp; Design</td>\n",
              "      <td>August 1, 2018</td>\n",
              "      <td>1.2.4</td>\n",
              "      <td>4.0.3 and up</td>\n",
              "    </tr>\n",
              "    <tr>\n",
              "      <th>3</th>\n",
              "      <td>Sketch - Draw &amp; Paint</td>\n",
              "      <td>ART_AND_DESIGN</td>\n",
              "      <td>4.5</td>\n",
              "      <td>215644</td>\n",
              "      <td>25M</td>\n",
              "      <td>50,000,000+</td>\n",
              "      <td>Free</td>\n",
              "      <td>0</td>\n",
              "      <td>Teen</td>\n",
              "      <td>Art &amp; Design</td>\n",
              "      <td>June 8, 2018</td>\n",
              "      <td>Varies with device</td>\n",
              "      <td>4.2 and up</td>\n",
              "    </tr>\n",
              "    <tr>\n",
              "      <th>4</th>\n",
              "      <td>Pixel Draw - Number Art Coloring Book</td>\n",
              "      <td>ART_AND_DESIGN</td>\n",
              "      <td>4.3</td>\n",
              "      <td>967</td>\n",
              "      <td>2.8M</td>\n",
              "      <td>100,000+</td>\n",
              "      <td>Free</td>\n",
              "      <td>0</td>\n",
              "      <td>Everyone</td>\n",
              "      <td>Art &amp; Design;Creativity</td>\n",
              "      <td>June 20, 2018</td>\n",
              "      <td>1.1</td>\n",
              "      <td>4.4 and up</td>\n",
              "    </tr>\n",
              "    <tr>\n",
              "      <th>5</th>\n",
              "      <td>Paper flowers instructions</td>\n",
              "      <td>ART_AND_DESIGN</td>\n",
              "      <td>4.4</td>\n",
              "      <td>167</td>\n",
              "      <td>5.6M</td>\n",
              "      <td>50,000+</td>\n",
              "      <td>Free</td>\n",
              "      <td>0</td>\n",
              "      <td>Everyone</td>\n",
              "      <td>Art &amp; Design</td>\n",
              "      <td>March 26, 2017</td>\n",
              "      <td>1.0</td>\n",
              "      <td>2.3 and up</td>\n",
              "    </tr>\n",
              "    <tr>\n",
              "      <th>6</th>\n",
              "      <td>Smoke Effect Photo Maker - Smoke Editor</td>\n",
              "      <td>ART_AND_DESIGN</td>\n",
              "      <td>3.8</td>\n",
              "      <td>178</td>\n",
              "      <td>19M</td>\n",
              "      <td>50,000+</td>\n",
              "      <td>Free</td>\n",
              "      <td>0</td>\n",
              "      <td>Everyone</td>\n",
              "      <td>Art &amp; Design</td>\n",
              "      <td>April 26, 2018</td>\n",
              "      <td>1.1</td>\n",
              "      <td>4.0.3 and up</td>\n",
              "    </tr>\n",
              "    <tr>\n",
              "      <th>7</th>\n",
              "      <td>Infinite Painter</td>\n",
              "      <td>ART_AND_DESIGN</td>\n",
              "      <td>4.1</td>\n",
              "      <td>36815</td>\n",
              "      <td>29M</td>\n",
              "      <td>1,000,000+</td>\n",
              "      <td>Free</td>\n",
              "      <td>0</td>\n",
              "      <td>Everyone</td>\n",
              "      <td>Art &amp; Design</td>\n",
              "      <td>June 14, 2018</td>\n",
              "      <td>6.1.61.1</td>\n",
              "      <td>4.2 and up</td>\n",
              "    </tr>\n",
              "    <tr>\n",
              "      <th>8</th>\n",
              "      <td>Garden Coloring Book</td>\n",
              "      <td>ART_AND_DESIGN</td>\n",
              "      <td>4.4</td>\n",
              "      <td>13791</td>\n",
              "      <td>33M</td>\n",
              "      <td>1,000,000+</td>\n",
              "      <td>Free</td>\n",
              "      <td>0</td>\n",
              "      <td>Everyone</td>\n",
              "      <td>Art &amp; Design</td>\n",
              "      <td>September 20, 2017</td>\n",
              "      <td>2.9.2</td>\n",
              "      <td>3.0 and up</td>\n",
              "    </tr>\n",
              "    <tr>\n",
              "      <th>9</th>\n",
              "      <td>Kids Paint Free - Drawing Fun</td>\n",
              "      <td>ART_AND_DESIGN</td>\n",
              "      <td>4.7</td>\n",
              "      <td>121</td>\n",
              "      <td>3.1M</td>\n",
              "      <td>10,000+</td>\n",
              "      <td>Free</td>\n",
              "      <td>0</td>\n",
              "      <td>Everyone</td>\n",
              "      <td>Art &amp; Design;Creativity</td>\n",
              "      <td>July 3, 2018</td>\n",
              "      <td>2.8</td>\n",
              "      <td>4.0.3 and up</td>\n",
              "    </tr>\n",
              "  </tbody>\n",
              "</table>\n",
              "</div>\n",
              "      <button class=\"colab-df-convert\" onclick=\"convertToInteractive('df-05c4a533-d840-44a4-8f4b-2ff87c946b31')\"\n",
              "              title=\"Convert this dataframe to an interactive table.\"\n",
              "              style=\"display:none;\">\n",
              "        \n",
              "  <svg xmlns=\"http://www.w3.org/2000/svg\" height=\"24px\"viewBox=\"0 0 24 24\"\n",
              "       width=\"24px\">\n",
              "    <path d=\"M0 0h24v24H0V0z\" fill=\"none\"/>\n",
              "    <path d=\"M18.56 5.44l.94 2.06.94-2.06 2.06-.94-2.06-.94-.94-2.06-.94 2.06-2.06.94zm-11 1L8.5 8.5l.94-2.06 2.06-.94-2.06-.94L8.5 2.5l-.94 2.06-2.06.94zm10 10l.94 2.06.94-2.06 2.06-.94-2.06-.94-.94-2.06-.94 2.06-2.06.94z\"/><path d=\"M17.41 7.96l-1.37-1.37c-.4-.4-.92-.59-1.43-.59-.52 0-1.04.2-1.43.59L10.3 9.45l-7.72 7.72c-.78.78-.78 2.05 0 2.83L4 21.41c.39.39.9.59 1.41.59.51 0 1.02-.2 1.41-.59l7.78-7.78 2.81-2.81c.8-.78.8-2.07 0-2.86zM5.41 20L4 18.59l7.72-7.72 1.47 1.35L5.41 20z\"/>\n",
              "  </svg>\n",
              "      </button>\n",
              "      \n",
              "  <style>\n",
              "    .colab-df-container {\n",
              "      display:flex;\n",
              "      flex-wrap:wrap;\n",
              "      gap: 12px;\n",
              "    }\n",
              "\n",
              "    .colab-df-convert {\n",
              "      background-color: #E8F0FE;\n",
              "      border: none;\n",
              "      border-radius: 50%;\n",
              "      cursor: pointer;\n",
              "      display: none;\n",
              "      fill: #1967D2;\n",
              "      height: 32px;\n",
              "      padding: 0 0 0 0;\n",
              "      width: 32px;\n",
              "    }\n",
              "\n",
              "    .colab-df-convert:hover {\n",
              "      background-color: #E2EBFA;\n",
              "      box-shadow: 0px 1px 2px rgba(60, 64, 67, 0.3), 0px 1px 3px 1px rgba(60, 64, 67, 0.15);\n",
              "      fill: #174EA6;\n",
              "    }\n",
              "\n",
              "    [theme=dark] .colab-df-convert {\n",
              "      background-color: #3B4455;\n",
              "      fill: #D2E3FC;\n",
              "    }\n",
              "\n",
              "    [theme=dark] .colab-df-convert:hover {\n",
              "      background-color: #434B5C;\n",
              "      box-shadow: 0px 1px 3px 1px rgba(0, 0, 0, 0.15);\n",
              "      filter: drop-shadow(0px 1px 2px rgba(0, 0, 0, 0.3));\n",
              "      fill: #FFFFFF;\n",
              "    }\n",
              "  </style>\n",
              "\n",
              "      <script>\n",
              "        const buttonEl =\n",
              "          document.querySelector('#df-05c4a533-d840-44a4-8f4b-2ff87c946b31 button.colab-df-convert');\n",
              "        buttonEl.style.display =\n",
              "          google.colab.kernel.accessAllowed ? 'block' : 'none';\n",
              "\n",
              "        async function convertToInteractive(key) {\n",
              "          const element = document.querySelector('#df-05c4a533-d840-44a4-8f4b-2ff87c946b31');\n",
              "          const dataTable =\n",
              "            await google.colab.kernel.invokeFunction('convertToInteractive',\n",
              "                                                     [key], {});\n",
              "          if (!dataTable) return;\n",
              "\n",
              "          const docLinkHtml = 'Like what you see? Visit the ' +\n",
              "            '<a target=\"_blank\" href=https://colab.research.google.com/notebooks/data_table.ipynb>data table notebook</a>'\n",
              "            + ' to learn more about interactive tables.';\n",
              "          element.innerHTML = '';\n",
              "          dataTable['output_type'] = 'display_data';\n",
              "          await google.colab.output.renderOutput(dataTable, element);\n",
              "          const docLink = document.createElement('div');\n",
              "          docLink.innerHTML = docLinkHtml;\n",
              "          element.appendChild(docLink);\n",
              "        }\n",
              "      </script>\n",
              "    </div>\n",
              "  </div>\n",
              "  "
            ],
            "text/plain": [
              "                                                 App        Category  Rating  \\\n",
              "0     Photo Editor & Candy Camera & Grid & ScrapBook  ART_AND_DESIGN     4.1   \n",
              "1                                Coloring book moana  ART_AND_DESIGN     3.9   \n",
              "2  U Launcher Lite – FREE Live Cool Themes, Hide ...  ART_AND_DESIGN     4.7   \n",
              "3                              Sketch - Draw & Paint  ART_AND_DESIGN     4.5   \n",
              "4              Pixel Draw - Number Art Coloring Book  ART_AND_DESIGN     4.3   \n",
              "5                         Paper flowers instructions  ART_AND_DESIGN     4.4   \n",
              "6            Smoke Effect Photo Maker - Smoke Editor  ART_AND_DESIGN     3.8   \n",
              "7                                   Infinite Painter  ART_AND_DESIGN     4.1   \n",
              "8                               Garden Coloring Book  ART_AND_DESIGN     4.4   \n",
              "9                      Kids Paint Free - Drawing Fun  ART_AND_DESIGN     4.7   \n",
              "\n",
              "  Reviews  Size     Installs  Type Price Content Rating  \\\n",
              "0     159   19M      10,000+  Free     0       Everyone   \n",
              "1     967   14M     500,000+  Free     0       Everyone   \n",
              "2   87510  8.7M   5,000,000+  Free     0       Everyone   \n",
              "3  215644   25M  50,000,000+  Free     0           Teen   \n",
              "4     967  2.8M     100,000+  Free     0       Everyone   \n",
              "5     167  5.6M      50,000+  Free     0       Everyone   \n",
              "6     178   19M      50,000+  Free     0       Everyone   \n",
              "7   36815   29M   1,000,000+  Free     0       Everyone   \n",
              "8   13791   33M   1,000,000+  Free     0       Everyone   \n",
              "9     121  3.1M      10,000+  Free     0       Everyone   \n",
              "\n",
              "                      Genres        Last Updated         Current Ver  \\\n",
              "0               Art & Design     January 7, 2018               1.0.0   \n",
              "1  Art & Design;Pretend Play    January 15, 2018               2.0.0   \n",
              "2               Art & Design      August 1, 2018               1.2.4   \n",
              "3               Art & Design        June 8, 2018  Varies with device   \n",
              "4    Art & Design;Creativity       June 20, 2018                 1.1   \n",
              "5               Art & Design      March 26, 2017                 1.0   \n",
              "6               Art & Design      April 26, 2018                 1.1   \n",
              "7               Art & Design       June 14, 2018            6.1.61.1   \n",
              "8               Art & Design  September 20, 2017               2.9.2   \n",
              "9    Art & Design;Creativity        July 3, 2018                 2.8   \n",
              "\n",
              "    Android Ver  \n",
              "0  4.0.3 and up  \n",
              "1  4.0.3 and up  \n",
              "2  4.0.3 and up  \n",
              "3    4.2 and up  \n",
              "4    4.4 and up  \n",
              "5    2.3 and up  \n",
              "6  4.0.3 and up  \n",
              "7    4.2 and up  \n",
              "8    3.0 and up  \n",
              "9  4.0.3 and up  "
            ]
          },
          "metadata": {},
          "execution_count": 6
        }
      ]
    },
    {
      "cell_type": "code",
      "source": [
        "df.info()"
      ],
      "metadata": {
        "colab": {
          "base_uri": "https://localhost:8080/"
        },
        "id": "aLL7-IXuHR0_",
        "outputId": "ef36d1e5-7db3-433f-c696-afb1e1b2150a"
      },
      "execution_count": 7,
      "outputs": [
        {
          "output_type": "stream",
          "name": "stdout",
          "text": [
            "<class 'pandas.core.frame.DataFrame'>\n",
            "RangeIndex: 10841 entries, 0 to 10840\n",
            "Data columns (total 13 columns):\n",
            " #   Column          Non-Null Count  Dtype  \n",
            "---  ------          --------------  -----  \n",
            " 0   App             10841 non-null  object \n",
            " 1   Category        10841 non-null  object \n",
            " 2   Rating          9367 non-null   float64\n",
            " 3   Reviews         10841 non-null  object \n",
            " 4   Size            10841 non-null  object \n",
            " 5   Installs        10841 non-null  object \n",
            " 6   Type            10840 non-null  object \n",
            " 7   Price           10841 non-null  object \n",
            " 8   Content Rating  10840 non-null  object \n",
            " 9   Genres          10841 non-null  object \n",
            " 10  Last Updated    10841 non-null  object \n",
            " 11  Current Ver     10833 non-null  object \n",
            " 12  Android Ver     10838 non-null  object \n",
            "dtypes: float64(1), object(12)\n",
            "memory usage: 1.1+ MB\n"
          ]
        }
      ]
    },
    {
      "cell_type": "code",
      "source": [
        "#Checking for Null values in all the columns\n",
        "\n",
        "print(df.isnull().sum())\n",
        "\n",
        "#df[df.isnull()]\n",
        "#df[df.Ratings>5]\n",
        "df[df.isnull().any(axis=1)]"
      ],
      "metadata": {
        "colab": {
          "base_uri": "https://localhost:8080/",
          "height": 850
        },
        "id": "zzKayFRoH_dg",
        "outputId": "2a16a877-8055-489e-d846-34806d2184ba"
      },
      "execution_count": 8,
      "outputs": [
        {
          "output_type": "stream",
          "name": "stdout",
          "text": [
            "App                  0\n",
            "Category             0\n",
            "Rating            1474\n",
            "Reviews              0\n",
            "Size                 0\n",
            "Installs             0\n",
            "Type                 1\n",
            "Price                0\n",
            "Content Rating       1\n",
            "Genres               0\n",
            "Last Updated         0\n",
            "Current Ver          8\n",
            "Android Ver          3\n",
            "dtype: int64\n"
          ]
        },
        {
          "output_type": "execute_result",
          "data": {
            "text/html": [
              "\n",
              "  <div id=\"df-d3c83216-6292-4fc3-be8a-a06b8bb3370b\">\n",
              "    <div class=\"colab-df-container\">\n",
              "      <div>\n",
              "<style scoped>\n",
              "    .dataframe tbody tr th:only-of-type {\n",
              "        vertical-align: middle;\n",
              "    }\n",
              "\n",
              "    .dataframe tbody tr th {\n",
              "        vertical-align: top;\n",
              "    }\n",
              "\n",
              "    .dataframe thead th {\n",
              "        text-align: right;\n",
              "    }\n",
              "</style>\n",
              "<table border=\"1\" class=\"dataframe\">\n",
              "  <thead>\n",
              "    <tr style=\"text-align: right;\">\n",
              "      <th></th>\n",
              "      <th>App</th>\n",
              "      <th>Category</th>\n",
              "      <th>Rating</th>\n",
              "      <th>Reviews</th>\n",
              "      <th>Size</th>\n",
              "      <th>Installs</th>\n",
              "      <th>Type</th>\n",
              "      <th>Price</th>\n",
              "      <th>Content Rating</th>\n",
              "      <th>Genres</th>\n",
              "      <th>Last Updated</th>\n",
              "      <th>Current Ver</th>\n",
              "      <th>Android Ver</th>\n",
              "    </tr>\n",
              "  </thead>\n",
              "  <tbody>\n",
              "    <tr>\n",
              "      <th>15</th>\n",
              "      <td>Learn To Draw Kawaii Characters</td>\n",
              "      <td>ART_AND_DESIGN</td>\n",
              "      <td>3.2</td>\n",
              "      <td>55</td>\n",
              "      <td>2.7M</td>\n",
              "      <td>5,000+</td>\n",
              "      <td>Free</td>\n",
              "      <td>0</td>\n",
              "      <td>Everyone</td>\n",
              "      <td>Art &amp; Design</td>\n",
              "      <td>June 6, 2018</td>\n",
              "      <td>NaN</td>\n",
              "      <td>4.2 and up</td>\n",
              "    </tr>\n",
              "    <tr>\n",
              "      <th>23</th>\n",
              "      <td>Mcqueen Coloring pages</td>\n",
              "      <td>ART_AND_DESIGN</td>\n",
              "      <td>NaN</td>\n",
              "      <td>61</td>\n",
              "      <td>7.0M</td>\n",
              "      <td>100,000+</td>\n",
              "      <td>Free</td>\n",
              "      <td>0</td>\n",
              "      <td>Everyone</td>\n",
              "      <td>Art &amp; Design;Action &amp; Adventure</td>\n",
              "      <td>March 7, 2018</td>\n",
              "      <td>1.0.0</td>\n",
              "      <td>4.1 and up</td>\n",
              "    </tr>\n",
              "    <tr>\n",
              "      <th>113</th>\n",
              "      <td>Wrinkles and rejuvenation</td>\n",
              "      <td>BEAUTY</td>\n",
              "      <td>NaN</td>\n",
              "      <td>182</td>\n",
              "      <td>5.7M</td>\n",
              "      <td>100,000+</td>\n",
              "      <td>Free</td>\n",
              "      <td>0</td>\n",
              "      <td>Everyone 10+</td>\n",
              "      <td>Beauty</td>\n",
              "      <td>September 20, 2017</td>\n",
              "      <td>8.0</td>\n",
              "      <td>3.0 and up</td>\n",
              "    </tr>\n",
              "    <tr>\n",
              "      <th>123</th>\n",
              "      <td>Manicure - nail design</td>\n",
              "      <td>BEAUTY</td>\n",
              "      <td>NaN</td>\n",
              "      <td>119</td>\n",
              "      <td>3.7M</td>\n",
              "      <td>50,000+</td>\n",
              "      <td>Free</td>\n",
              "      <td>0</td>\n",
              "      <td>Everyone</td>\n",
              "      <td>Beauty</td>\n",
              "      <td>July 23, 2018</td>\n",
              "      <td>1.3</td>\n",
              "      <td>4.1 and up</td>\n",
              "    </tr>\n",
              "    <tr>\n",
              "      <th>126</th>\n",
              "      <td>Skin Care and Natural Beauty</td>\n",
              "      <td>BEAUTY</td>\n",
              "      <td>NaN</td>\n",
              "      <td>654</td>\n",
              "      <td>7.4M</td>\n",
              "      <td>100,000+</td>\n",
              "      <td>Free</td>\n",
              "      <td>0</td>\n",
              "      <td>Teen</td>\n",
              "      <td>Beauty</td>\n",
              "      <td>July 17, 2018</td>\n",
              "      <td>1.15</td>\n",
              "      <td>4.1 and up</td>\n",
              "    </tr>\n",
              "    <tr>\n",
              "      <th>...</th>\n",
              "      <td>...</td>\n",
              "      <td>...</td>\n",
              "      <td>...</td>\n",
              "      <td>...</td>\n",
              "      <td>...</td>\n",
              "      <td>...</td>\n",
              "      <td>...</td>\n",
              "      <td>...</td>\n",
              "      <td>...</td>\n",
              "      <td>...</td>\n",
              "      <td>...</td>\n",
              "      <td>...</td>\n",
              "      <td>...</td>\n",
              "    </tr>\n",
              "    <tr>\n",
              "      <th>10824</th>\n",
              "      <td>Cardio-FR</td>\n",
              "      <td>MEDICAL</td>\n",
              "      <td>NaN</td>\n",
              "      <td>67</td>\n",
              "      <td>82M</td>\n",
              "      <td>10,000+</td>\n",
              "      <td>Free</td>\n",
              "      <td>0</td>\n",
              "      <td>Everyone</td>\n",
              "      <td>Medical</td>\n",
              "      <td>July 31, 2018</td>\n",
              "      <td>2.2.2</td>\n",
              "      <td>4.4 and up</td>\n",
              "    </tr>\n",
              "    <tr>\n",
              "      <th>10825</th>\n",
              "      <td>Naruto &amp; Boruto FR</td>\n",
              "      <td>SOCIAL</td>\n",
              "      <td>NaN</td>\n",
              "      <td>7</td>\n",
              "      <td>7.7M</td>\n",
              "      <td>100+</td>\n",
              "      <td>Free</td>\n",
              "      <td>0</td>\n",
              "      <td>Teen</td>\n",
              "      <td>Social</td>\n",
              "      <td>February 2, 2018</td>\n",
              "      <td>1.0</td>\n",
              "      <td>4.0 and up</td>\n",
              "    </tr>\n",
              "    <tr>\n",
              "      <th>10831</th>\n",
              "      <td>payermonstationnement.fr</td>\n",
              "      <td>MAPS_AND_NAVIGATION</td>\n",
              "      <td>NaN</td>\n",
              "      <td>38</td>\n",
              "      <td>9.8M</td>\n",
              "      <td>5,000+</td>\n",
              "      <td>Free</td>\n",
              "      <td>0</td>\n",
              "      <td>Everyone</td>\n",
              "      <td>Maps &amp; Navigation</td>\n",
              "      <td>June 13, 2018</td>\n",
              "      <td>2.0.148.0</td>\n",
              "      <td>4.0 and up</td>\n",
              "    </tr>\n",
              "    <tr>\n",
              "      <th>10835</th>\n",
              "      <td>FR Forms</td>\n",
              "      <td>BUSINESS</td>\n",
              "      <td>NaN</td>\n",
              "      <td>0</td>\n",
              "      <td>9.6M</td>\n",
              "      <td>10+</td>\n",
              "      <td>Free</td>\n",
              "      <td>0</td>\n",
              "      <td>Everyone</td>\n",
              "      <td>Business</td>\n",
              "      <td>September 29, 2016</td>\n",
              "      <td>1.1.5</td>\n",
              "      <td>4.0 and up</td>\n",
              "    </tr>\n",
              "    <tr>\n",
              "      <th>10838</th>\n",
              "      <td>Parkinson Exercices FR</td>\n",
              "      <td>MEDICAL</td>\n",
              "      <td>NaN</td>\n",
              "      <td>3</td>\n",
              "      <td>9.5M</td>\n",
              "      <td>1,000+</td>\n",
              "      <td>Free</td>\n",
              "      <td>0</td>\n",
              "      <td>Everyone</td>\n",
              "      <td>Medical</td>\n",
              "      <td>January 20, 2017</td>\n",
              "      <td>1.0</td>\n",
              "      <td>2.2 and up</td>\n",
              "    </tr>\n",
              "  </tbody>\n",
              "</table>\n",
              "<p>1481 rows × 13 columns</p>\n",
              "</div>\n",
              "      <button class=\"colab-df-convert\" onclick=\"convertToInteractive('df-d3c83216-6292-4fc3-be8a-a06b8bb3370b')\"\n",
              "              title=\"Convert this dataframe to an interactive table.\"\n",
              "              style=\"display:none;\">\n",
              "        \n",
              "  <svg xmlns=\"http://www.w3.org/2000/svg\" height=\"24px\"viewBox=\"0 0 24 24\"\n",
              "       width=\"24px\">\n",
              "    <path d=\"M0 0h24v24H0V0z\" fill=\"none\"/>\n",
              "    <path d=\"M18.56 5.44l.94 2.06.94-2.06 2.06-.94-2.06-.94-.94-2.06-.94 2.06-2.06.94zm-11 1L8.5 8.5l.94-2.06 2.06-.94-2.06-.94L8.5 2.5l-.94 2.06-2.06.94zm10 10l.94 2.06.94-2.06 2.06-.94-2.06-.94-.94-2.06-.94 2.06-2.06.94z\"/><path d=\"M17.41 7.96l-1.37-1.37c-.4-.4-.92-.59-1.43-.59-.52 0-1.04.2-1.43.59L10.3 9.45l-7.72 7.72c-.78.78-.78 2.05 0 2.83L4 21.41c.39.39.9.59 1.41.59.51 0 1.02-.2 1.41-.59l7.78-7.78 2.81-2.81c.8-.78.8-2.07 0-2.86zM5.41 20L4 18.59l7.72-7.72 1.47 1.35L5.41 20z\"/>\n",
              "  </svg>\n",
              "      </button>\n",
              "      \n",
              "  <style>\n",
              "    .colab-df-container {\n",
              "      display:flex;\n",
              "      flex-wrap:wrap;\n",
              "      gap: 12px;\n",
              "    }\n",
              "\n",
              "    .colab-df-convert {\n",
              "      background-color: #E8F0FE;\n",
              "      border: none;\n",
              "      border-radius: 50%;\n",
              "      cursor: pointer;\n",
              "      display: none;\n",
              "      fill: #1967D2;\n",
              "      height: 32px;\n",
              "      padding: 0 0 0 0;\n",
              "      width: 32px;\n",
              "    }\n",
              "\n",
              "    .colab-df-convert:hover {\n",
              "      background-color: #E2EBFA;\n",
              "      box-shadow: 0px 1px 2px rgba(60, 64, 67, 0.3), 0px 1px 3px 1px rgba(60, 64, 67, 0.15);\n",
              "      fill: #174EA6;\n",
              "    }\n",
              "\n",
              "    [theme=dark] .colab-df-convert {\n",
              "      background-color: #3B4455;\n",
              "      fill: #D2E3FC;\n",
              "    }\n",
              "\n",
              "    [theme=dark] .colab-df-convert:hover {\n",
              "      background-color: #434B5C;\n",
              "      box-shadow: 0px 1px 3px 1px rgba(0, 0, 0, 0.15);\n",
              "      filter: drop-shadow(0px 1px 2px rgba(0, 0, 0, 0.3));\n",
              "      fill: #FFFFFF;\n",
              "    }\n",
              "  </style>\n",
              "\n",
              "      <script>\n",
              "        const buttonEl =\n",
              "          document.querySelector('#df-d3c83216-6292-4fc3-be8a-a06b8bb3370b button.colab-df-convert');\n",
              "        buttonEl.style.display =\n",
              "          google.colab.kernel.accessAllowed ? 'block' : 'none';\n",
              "\n",
              "        async function convertToInteractive(key) {\n",
              "          const element = document.querySelector('#df-d3c83216-6292-4fc3-be8a-a06b8bb3370b');\n",
              "          const dataTable =\n",
              "            await google.colab.kernel.invokeFunction('convertToInteractive',\n",
              "                                                     [key], {});\n",
              "          if (!dataTable) return;\n",
              "\n",
              "          const docLinkHtml = 'Like what you see? Visit the ' +\n",
              "            '<a target=\"_blank\" href=https://colab.research.google.com/notebooks/data_table.ipynb>data table notebook</a>'\n",
              "            + ' to learn more about interactive tables.';\n",
              "          element.innerHTML = '';\n",
              "          dataTable['output_type'] = 'display_data';\n",
              "          await google.colab.output.renderOutput(dataTable, element);\n",
              "          const docLink = document.createElement('div');\n",
              "          docLink.innerHTML = docLinkHtml;\n",
              "          element.appendChild(docLink);\n",
              "        }\n",
              "      </script>\n",
              "    </div>\n",
              "  </div>\n",
              "  "
            ],
            "text/plain": [
              "                                   App             Category  Rating Reviews  \\\n",
              "15     Learn To Draw Kawaii Characters       ART_AND_DESIGN     3.2      55   \n",
              "23              Mcqueen Coloring pages       ART_AND_DESIGN     NaN      61   \n",
              "113          Wrinkles and rejuvenation               BEAUTY     NaN     182   \n",
              "123             Manicure - nail design               BEAUTY     NaN     119   \n",
              "126       Skin Care and Natural Beauty               BEAUTY     NaN     654   \n",
              "...                                ...                  ...     ...     ...   \n",
              "10824                        Cardio-FR              MEDICAL     NaN      67   \n",
              "10825               Naruto & Boruto FR               SOCIAL     NaN       7   \n",
              "10831         payermonstationnement.fr  MAPS_AND_NAVIGATION     NaN      38   \n",
              "10835                         FR Forms             BUSINESS     NaN       0   \n",
              "10838           Parkinson Exercices FR              MEDICAL     NaN       3   \n",
              "\n",
              "       Size  Installs  Type Price Content Rating  \\\n",
              "15     2.7M    5,000+  Free     0       Everyone   \n",
              "23     7.0M  100,000+  Free     0       Everyone   \n",
              "113    5.7M  100,000+  Free     0   Everyone 10+   \n",
              "123    3.7M   50,000+  Free     0       Everyone   \n",
              "126    7.4M  100,000+  Free     0           Teen   \n",
              "...     ...       ...   ...   ...            ...   \n",
              "10824   82M   10,000+  Free     0       Everyone   \n",
              "10825  7.7M      100+  Free     0           Teen   \n",
              "10831  9.8M    5,000+  Free     0       Everyone   \n",
              "10835  9.6M       10+  Free     0       Everyone   \n",
              "10838  9.5M    1,000+  Free     0       Everyone   \n",
              "\n",
              "                                Genres        Last Updated Current Ver  \\\n",
              "15                        Art & Design        June 6, 2018         NaN   \n",
              "23     Art & Design;Action & Adventure       March 7, 2018       1.0.0   \n",
              "113                             Beauty  September 20, 2017         8.0   \n",
              "123                             Beauty       July 23, 2018         1.3   \n",
              "126                             Beauty       July 17, 2018        1.15   \n",
              "...                                ...                 ...         ...   \n",
              "10824                          Medical       July 31, 2018       2.2.2   \n",
              "10825                           Social    February 2, 2018         1.0   \n",
              "10831                Maps & Navigation       June 13, 2018   2.0.148.0   \n",
              "10835                         Business  September 29, 2016       1.1.5   \n",
              "10838                          Medical    January 20, 2017         1.0   \n",
              "\n",
              "      Android Ver  \n",
              "15     4.2 and up  \n",
              "23     4.1 and up  \n",
              "113    3.0 and up  \n",
              "123    4.1 and up  \n",
              "126    4.1 and up  \n",
              "...           ...  \n",
              "10824  4.4 and up  \n",
              "10825  4.0 and up  \n",
              "10831  4.0 and up  \n",
              "10835  4.0 and up  \n",
              "10838  2.2 and up  \n",
              "\n",
              "[1481 rows x 13 columns]"
            ]
          },
          "metadata": {},
          "execution_count": 8
        }
      ]
    },
    {
      "cell_type": "code",
      "source": [
        "#Missing Data Percentage\n",
        "\n",
        "for col in df.columns:\n",
        "    pct_missing = np.mean(df[col].isnull())\n",
        "    print('{} - {}%'.format(col, round(pct_missing*100)))"
      ],
      "metadata": {
        "colab": {
          "base_uri": "https://localhost:8080/"
        },
        "id": "y4XSiAqIKz0P",
        "outputId": "658486f9-3885-4cb8-dff1-5f5ac9eaf02b"
      },
      "execution_count": 9,
      "outputs": [
        {
          "output_type": "stream",
          "name": "stdout",
          "text": [
            "App - 0%\n",
            "Category - 0%\n",
            "Rating - 14%\n",
            "Reviews - 0%\n",
            "Size - 0%\n",
            "Installs - 0%\n",
            "Type - 0%\n",
            "Price - 0%\n",
            "Content Rating - 0%\n",
            "Genres - 0%\n",
            "Last Updated - 0%\n",
            "Current Ver - 0%\n",
            "Android Ver - 0%\n"
          ]
        }
      ]
    },
    {
      "cell_type": "code",
      "source": [
        "print('Summary of Rating column')\n",
        "print(df.Rating.describe())\n",
        "print('\\n')"
      ],
      "metadata": {
        "colab": {
          "base_uri": "https://localhost:8080/"
        },
        "id": "-7wFkHtfqCB0",
        "outputId": "59089543-aa8e-49fa-d5fa-c86975360fda"
      },
      "execution_count": 10,
      "outputs": [
        {
          "output_type": "stream",
          "name": "stdout",
          "text": [
            "Summary of Rating column\n",
            "count    9367.000000\n",
            "mean        4.193338\n",
            "std         0.537431\n",
            "min         1.000000\n",
            "25%         4.000000\n",
            "50%         4.300000\n",
            "75%         4.500000\n",
            "max        19.000000\n",
            "Name: Rating, dtype: float64\n",
            "\n",
            "\n"
          ]
        }
      ]
    },
    {
      "cell_type": "code",
      "source": [
        "df.boxplot()"
      ],
      "metadata": {
        "colab": {
          "base_uri": "https://localhost:8080/",
          "height": 282
        },
        "id": "38QOVbM3TFir",
        "outputId": "a8387082-adec-4a9d-f8cc-7342127afc92"
      },
      "execution_count": 11,
      "outputs": [
        {
          "output_type": "execute_result",
          "data": {
            "text/plain": [
              "<matplotlib.axes._subplots.AxesSubplot at 0x7efe1f50d6d0>"
            ]
          },
          "metadata": {},
          "execution_count": 11
        },
        {
          "output_type": "display_data",
          "data": {
            "image/png": "[encoded data removed]",
            "text/plain": [
              "<Figure size 432x288 with 1 Axes>"
            ]
          },
          "metadata": {
            "needs_background": "light"
          }
        }
      ]
    },
    {
      "cell_type": "code",
      "source": [
        "#Removing the outliers in Rating field\n",
        "\n",
        "df[df.Rating>5]\n",
        "df.drop([10472], inplace = True)"
      ],
      "metadata": {
        "id": "ruPBF2L9TKp-"
      },
      "execution_count": 12,
      "outputs": []
    },
    {
      "cell_type": "code",
      "source": [
        "#Imputing the NULL values in Rating\n",
        "\n",
        "print('Median: ', df.Rating.median())\n",
        "print('Mean:', df.Rating.mean())\n",
        "df.Rating= df.Rating.fillna(df['Rating'].mean())"
      ],
      "metadata": {
        "colab": {
          "base_uri": "https://localhost:8080/"
        },
        "id": "9eaOFglLUGzo",
        "outputId": "aa5175f9-0a66-4869-a970-4fd0ddab2d54"
      },
      "execution_count": 13,
      "outputs": [
        {
          "output_type": "stream",
          "name": "stdout",
          "text": [
            "Median:  4.3\n",
            "Mean: 4.191757420456978\n"
          ]
        }
      ]
    },
    {
      "cell_type": "code",
      "source": [
        "#print('Cross-Verifying')\n",
        "df[df.Rating>5]"
      ],
      "metadata": {
        "colab": {
          "base_uri": "https://localhost:8080/",
          "height": 49
        },
        "id": "1xPlbjIyVo3j",
        "outputId": "20b68252-d96d-4f51-a0ad-1a61181545f2"
      },
      "execution_count": 14,
      "outputs": [
        {
          "output_type": "execute_result",
          "data": {
            "text/html": [
              "\n",
              "  <div id=\"df-7d72988d-4be0-44d1-b8a1-f49401ae9a87\">\n",
              "    <div class=\"colab-df-container\">\n",
              "      <div>\n",
              "<style scoped>\n",
              "    .dataframe tbody tr th:only-of-type {\n",
              "        vertical-align: middle;\n",
              "    }\n",
              "\n",
              "    .dataframe tbody tr th {\n",
              "        vertical-align: top;\n",
              "    }\n",
              "\n",
              "    .dataframe thead th {\n",
              "        text-align: right;\n",
              "    }\n",
              "</style>\n",
              "<table border=\"1\" class=\"dataframe\">\n",
              "  <thead>\n",
              "    <tr style=\"text-align: right;\">\n",
              "      <th></th>\n",
              "      <th>App</th>\n",
              "      <th>Category</th>\n",
              "      <th>Rating</th>\n",
              "      <th>Reviews</th>\n",
              "      <th>Size</th>\n",
              "      <th>Installs</th>\n",
              "      <th>Type</th>\n",
              "      <th>Price</th>\n",
              "      <th>Content Rating</th>\n",
              "      <th>Genres</th>\n",
              "      <th>Last Updated</th>\n",
              "      <th>Current Ver</th>\n",
              "      <th>Android Ver</th>\n",
              "    </tr>\n",
              "  </thead>\n",
              "  <tbody>\n",
              "  </tbody>\n",
              "</table>\n",
              "</div>\n",
              "      <button class=\"colab-df-convert\" onclick=\"convertToInteractive('df-7d72988d-4be0-44d1-b8a1-f49401ae9a87')\"\n",
              "              title=\"Convert this dataframe to an interactive table.\"\n",
              "              style=\"display:none;\">\n",
              "        \n",
              "  <svg xmlns=\"http://www.w3.org/2000/svg\" height=\"24px\"viewBox=\"0 0 24 24\"\n",
              "       width=\"24px\">\n",
              "    <path d=\"M0 0h24v24H0V0z\" fill=\"none\"/>\n",
              "    <path d=\"M18.56 5.44l.94 2.06.94-2.06 2.06-.94-2.06-.94-.94-2.06-.94 2.06-2.06.94zm-11 1L8.5 8.5l.94-2.06 2.06-.94-2.06-.94L8.5 2.5l-.94 2.06-2.06.94zm10 10l.94 2.06.94-2.06 2.06-.94-2.06-.94-.94-2.06-.94 2.06-2.06.94z\"/><path d=\"M17.41 7.96l-1.37-1.37c-.4-.4-.92-.59-1.43-.59-.52 0-1.04.2-1.43.59L10.3 9.45l-7.72 7.72c-.78.78-.78 2.05 0 2.83L4 21.41c.39.39.9.59 1.41.59.51 0 1.02-.2 1.41-.59l7.78-7.78 2.81-2.81c.8-.78.8-2.07 0-2.86zM5.41 20L4 18.59l7.72-7.72 1.47 1.35L5.41 20z\"/>\n",
              "  </svg>\n",
              "      </button>\n",
              "      \n",
              "  <style>\n",
              "    .colab-df-container {\n",
              "      display:flex;\n",
              "      flex-wrap:wrap;\n",
              "      gap: 12px;\n",
              "    }\n",
              "\n",
              "    .colab-df-convert {\n",
              "      background-color: #E8F0FE;\n",
              "      border: none;\n",
              "      border-radius: 50%;\n",
              "      cursor: pointer;\n",
              "      display: none;\n",
              "      fill: #1967D2;\n",
              "      height: 32px;\n",
              "      padding: 0 0 0 0;\n",
              "      width: 32px;\n",
              "    }\n",
              "\n",
              "    .colab-df-convert:hover {\n",
              "      background-color: #E2EBFA;\n",
              "      box-shadow: 0px 1px 2px rgba(60, 64, 67, 0.3), 0px 1px 3px 1px rgba(60, 64, 67, 0.15);\n",
              "      fill: #174EA6;\n",
              "    }\n",
              "\n",
              "    [theme=dark] .colab-df-convert {\n",
              "      background-color: #3B4455;\n",
              "      fill: #D2E3FC;\n",
              "    }\n",
              "\n",
              "    [theme=dark] .colab-df-convert:hover {\n",
              "      background-color: #434B5C;\n",
              "      box-shadow: 0px 1px 3px 1px rgba(0, 0, 0, 0.15);\n",
              "      filter: drop-shadow(0px 1px 2px rgba(0, 0, 0, 0.3));\n",
              "      fill: #FFFFFF;\n",
              "    }\n",
              "  </style>\n",
              "\n",
              "      <script>\n",
              "        const buttonEl =\n",
              "          document.querySelector('#df-7d72988d-4be0-44d1-b8a1-f49401ae9a87 button.colab-df-convert');\n",
              "        buttonEl.style.display =\n",
              "          google.colab.kernel.accessAllowed ? 'block' : 'none';\n",
              "\n",
              "        async function convertToInteractive(key) {\n",
              "          const element = document.querySelector('#df-7d72988d-4be0-44d1-b8a1-f49401ae9a87');\n",
              "          const dataTable =\n",
              "            await google.colab.kernel.invokeFunction('convertToInteractive',\n",
              "                                                     [key], {});\n",
              "          if (!dataTable) return;\n",
              "\n",
              "          const docLinkHtml = 'Like what you see? Visit the ' +\n",
              "            '<a target=\"_blank\" href=https://colab.research.google.com/notebooks/data_table.ipynb>data table notebook</a>'\n",
              "            + ' to learn more about interactive tables.';\n",
              "          element.innerHTML = '';\n",
              "          dataTable['output_type'] = 'display_data';\n",
              "          await google.colab.output.renderOutput(dataTable, element);\n",
              "          const docLink = document.createElement('div');\n",
              "          docLink.innerHTML = docLinkHtml;\n",
              "          element.appendChild(docLink);\n",
              "        }\n",
              "      </script>\n",
              "    </div>\n",
              "  </div>\n",
              "  "
            ],
            "text/plain": [
              "Empty DataFrame\n",
              "Columns: [App, Category, Rating, Reviews, Size, Installs, Type, Price, Content Rating, Genres, Last Updated, Current Ver, Android Ver]\n",
              "Index: []"
            ]
          },
          "metadata": {},
          "execution_count": 14
        }
      ]
    },
    {
      "cell_type": "code",
      "source": [
        "#Converting reviews filed from object to float\n",
        "\n",
        "df['Reviews']=pd.to_numeric(df['Reviews'], errors='coerce')"
      ],
      "metadata": {
        "id": "Y4kY-hjMV27b"
      },
      "execution_count": 15,
      "outputs": []
    },
    {
      "cell_type": "code",
      "source": [
        "#Cleaning installs\n",
        "df.Installs=df.Installs.apply(lambda x: str(x).replace('+','') if '+' in str(x) else str(x))\n",
        "df.Installs=df.Installs.apply(lambda x: str(x).replace(',','') if ',' in str(x) else str(x))\n",
        "df.Installs=pd.to_numeric(df['Installs'])"
      ],
      "metadata": {
        "id": "YuwIGz6-XHab"
      },
      "execution_count": 16,
      "outputs": []
    },
    {
      "cell_type": "code",
      "source": [
        "#Cleaning Type\n",
        "print(df.Type.unique())\n",
        "print(df.Type.mode().values[0])\n",
        "df['Type'].fillna(str(df['Type'].mode().values[0]), inplace=True)"
      ],
      "metadata": {
        "colab": {
          "base_uri": "https://localhost:8080/"
        },
        "id": "LHKqvkRvZU1R",
        "outputId": "abd63fef-2e93-4253-ff48-1ee1129f26fc"
      },
      "execution_count": 17,
      "outputs": [
        {
          "output_type": "stream",
          "name": "stdout",
          "text": [
            "['Free' 'Paid' nan]\n",
            "Free\n"
          ]
        }
      ]
    },
    {
      "cell_type": "code",
      "source": [
        "#Cleaning Price\n",
        "\n",
        "print(df.Price.unique())\n",
        "print('\\n')\n",
        "print('Any NULL Values:', df.Price.isnull().values.any())\n",
        "df.Price=df.Price.apply(lambda x: str(x).replace('$','') if '$' in str(x) else str(x))\n",
        "df.Price=pd.to_numeric(df.Price, downcast='float')\n"
      ],
      "metadata": {
        "colab": {
          "base_uri": "https://localhost:8080/"
        },
        "id": "9BhGdzUYa3B_",
        "outputId": "81dfd1bd-ad03-4cbb-e940-5bdd0c99233c"
      },
      "execution_count": 18,
      "outputs": [
        {
          "output_type": "stream",
          "name": "stdout",
          "text": [
            "['0' '$4.99' '$3.99' '$6.99' '$1.49' '$2.99' '$7.99' '$5.99' '$3.49'\n",
            " '$1.99' '$9.99' '$7.49' '$0.99' '$9.00' '$5.49' '$10.00' '$24.99'\n",
            " '$11.99' '$79.99' '$16.99' '$14.99' '$1.00' '$29.99' '$12.99' '$2.49'\n",
            " '$10.99' '$1.50' '$19.99' '$15.99' '$33.99' '$74.99' '$39.99' '$3.95'\n",
            " '$4.49' '$1.70' '$8.99' '$2.00' '$3.88' '$25.99' '$399.99' '$17.99'\n",
            " '$400.00' '$3.02' '$1.76' '$4.84' '$4.77' '$1.61' '$2.50' '$1.59' '$6.49'\n",
            " '$1.29' '$5.00' '$13.99' '$299.99' '$379.99' '$37.99' '$18.99' '$389.99'\n",
            " '$19.90' '$8.49' '$1.75' '$14.00' '$4.85' '$46.99' '$109.99' '$154.99'\n",
            " '$3.08' '$2.59' '$4.80' '$1.96' '$19.40' '$3.90' '$4.59' '$15.46' '$3.04'\n",
            " '$4.29' '$2.60' '$3.28' '$4.60' '$28.99' '$2.95' '$2.90' '$1.97'\n",
            " '$200.00' '$89.99' '$2.56' '$30.99' '$3.61' '$394.99' '$1.26' '$1.20'\n",
            " '$1.04']\n",
            "\n",
            "\n",
            "Any NULL Values: False\n"
          ]
        }
      ]
    },
    {
      "cell_type": "code",
      "source": [
        "#Clean Content Rating\n",
        "\n",
        "print('Any Null values:', df['Content Rating'].isnull().values.any())\n",
        "print('\\n')\n",
        "print(df['Content Rating'].unique())\n",
        "df['Content Rating'] [df['Content Rating']=='Unrated']=df['Content Rating'].mode().values[0]"
      ],
      "metadata": {
        "colab": {
          "base_uri": "https://localhost:8080/"
        },
        "id": "M4J77sBleBX-",
        "outputId": "804d5557-110a-4b66-8428-3a294b0c62f2"
      },
      "execution_count": 19,
      "outputs": [
        {
          "output_type": "stream",
          "name": "stdout",
          "text": [
            "Any Null values: False\n",
            "\n",
            "\n",
            "['Everyone' 'Teen' 'Everyone 10+' 'Mature 17+' 'Adults only 18+' 'Unrated']\n"
          ]
        }
      ]
    },
    {
      "cell_type": "code",
      "source": [
        "#Cleaning Current and Android Version\n",
        "\n",
        "df['Current Ver'].fillna(str(df['Current Ver'].mode().values[0]), inplace=True)\n",
        "df['Android Ver'].fillna(str(df['Android Ver'].mode().values[0]), inplace=True)"
      ],
      "metadata": {
        "id": "ukRbkKpnfc8A"
      },
      "execution_count": 20,
      "outputs": []
    },
    {
      "cell_type": "code",
      "source": [
        "#Cleaning Size field \n",
        "\n",
        "def change_size(size):\n",
        "  if 'M' in size:\n",
        "      x=size[:-1]\n",
        "      x=float(x)\n",
        "      return(x)\n",
        "  elif 'k' == size[-1:]:\n",
        "      x = size[:-1]\n",
        "      x = float(x)/1000\n",
        "      return(x)\n",
        "  else:\n",
        "     return None \n",
        "\n",
        "df[\"Size\"] = df[\"Size\"].map(change_size)\n",
        "\n",
        "#filling Size which had NA\n",
        "df.Size.fillna(method = 'ffill', inplace=True) "
      ],
      "metadata": {
        "id": "9ZEAnbYqipX-"
      },
      "execution_count": 21,
      "outputs": []
    },
    {
      "cell_type": "code",
      "source": [
        "# Converting the column names and datatypes of column in a sql compatible format\n",
        "\n",
        "df.rename(columns = {'Content Rating': 'Content_Rating', 'Last Updated':'Last_Updated', 'Current Ver':'Current_Ver', 'Android Ver':'Android_Ver'}, inplace=True)\n",
        "df['Last_Updated'] = pd.to_datetime(df['Last_Updated'])\n",
        "print(df.columns)\n"
      ],
      "metadata": {
        "colab": {
          "base_uri": "https://localhost:8080/"
        },
        "id": "Pq3H-Bpska_w",
        "outputId": "f8076473-aa70-4b2a-a709-8b9d563d3627"
      },
      "execution_count": 22,
      "outputs": [
        {
          "output_type": "stream",
          "name": "stdout",
          "text": [
            "Index(['App', 'Category', 'Rating', 'Reviews', 'Size', 'Installs', 'Type',\n",
            "       'Price', 'Content_Rating', 'Genres', 'Last_Updated', 'Current_Ver',\n",
            "       'Android_Ver'],\n",
            "      dtype='object')\n"
          ]
        }
      ]
    },
    {
      "cell_type": "code",
      "source": [
        "grp = df.groupby('Category')\n",
        "x = grp['Rating'].agg(np.mean)\n",
        "y = grp['Price'].agg(np.sum)\n",
        "z = grp['Reviews'].agg(np.mean)\n",
        "print(x)\n",
        "print(y)\n",
        "print(z)"
      ],
      "metadata": {
        "colab": {
          "base_uri": "https://localhost:8080/"
        },
        "id": "kTCQiyw1z0vK",
        "outputId": "229f7ff4-fc69-44a9-8385-86c4e27e59b3"
      },
      "execution_count": 23,
      "outputs": [
        {
          "output_type": "stream",
          "name": "stdout",
          "text": [
            "Category\n",
            "ART_AND_DESIGN         4.350389\n",
            "AUTO_AND_VEHICLES      4.190601\n",
            "BEAUTY                 4.260553\n",
            "BOOKS_AND_REFERENCE    4.310663\n",
            "BUSINESS               4.145448\n",
            "COMICS                 4.156392\n",
            "COMMUNICATION          4.163601\n",
            "DATING                 4.007601\n",
            "EDUCATION              4.387768\n",
            "ENTERTAINMENT          4.126174\n",
            "EVENTS                 4.363178\n",
            "FAMILY                 4.192214\n",
            "FINANCE                4.138922\n",
            "FOOD_AND_DRINK         4.170485\n",
            "GAME                   4.282441\n",
            "HEALTH_AND_FITNESS     4.266092\n",
            "HOUSE_AND_HOME         4.196603\n",
            "LIBRARIES_AND_DEMO     4.181590\n",
            "LIFESTYLE              4.112145\n",
            "MAPS_AND_NAVIGATION    4.064911\n",
            "MEDICAL                4.189781\n",
            "NEWS_AND_MAGAZINES     4.142713\n",
            "PARENTING              4.281960\n",
            "PERSONALIZATION        4.307288\n",
            "PHOTOGRAPHY            4.192094\n",
            "PRODUCTIVITY           4.208015\n",
            "SHOPPING               4.253918\n",
            "SOCIAL                 4.247808\n",
            "SPORTS                 4.218136\n",
            "TOOLS                  4.066075\n",
            "TRAVEL_AND_LOCAL       4.119520\n",
            "VIDEO_PLAYERS          4.074722\n",
            "WEATHER                4.239540\n",
            "Name: Rating, dtype: float64\n",
            "Category\n",
            "ART_AND_DESIGN            5.970000\n",
            "AUTO_AND_VEHICLES        13.469999\n",
            "BEAUTY                    0.000000\n",
            "BOOKS_AND_REFERENCE     119.769997\n",
            "BUSINESS                185.269989\n",
            "COMICS                    0.000000\n",
            "COMMUNICATION            83.139999\n",
            "DATING                   31.430000\n",
            "EDUCATION                17.959999\n",
            "ENTERTAINMENT             7.980000\n",
            "EVENTS                  109.989998\n",
            "FAMILY                 2434.780029\n",
            "FINANCE                2900.829834\n",
            "FOOD_AND_DRINK            8.480000\n",
            "GAME                    287.299988\n",
            "HEALTH_AND_FITNESS       67.339996\n",
            "HOUSE_AND_HOME            0.000000\n",
            "LIBRARIES_AND_DEMO        0.990000\n",
            "LIFESTYLE              2360.869873\n",
            "MAPS_AND_NAVIGATION      26.949999\n",
            "MEDICAL                1439.959961\n",
            "NEWS_AND_MAGAZINES        3.980000\n",
            "PARENTING                 9.580000\n",
            "PERSONALIZATION         153.960007\n",
            "PHOTOGRAPHY             134.209991\n",
            "PRODUCTIVITY            250.930008\n",
            "SHOPPING                  5.480000\n",
            "SOCIAL                   15.969999\n",
            "SPORTS                  100.000000\n",
            "TOOLS                   267.250000\n",
            "TRAVEL_AND_LOCAL         49.950001\n",
            "VIDEO_PLAYERS            10.460000\n",
            "WEATHER                  32.419998\n",
            "Name: Price, dtype: float32\n",
            "Category\n",
            "ART_AND_DESIGN         2.637600e+04\n",
            "AUTO_AND_VEHICLES      1.369019e+04\n",
            "BEAUTY                 7.476226e+03\n",
            "BOOKS_AND_REFERENCE    9.506090e+04\n",
            "BUSINESS               3.033598e+04\n",
            "COMICS                 5.638793e+04\n",
            "COMMUNICATION          2.107138e+06\n",
            "DATING                 3.115931e+04\n",
            "EDUCATION              2.538191e+05\n",
            "ENTERTAINMENT          3.971688e+05\n",
            "EVENTS                 2.515906e+03\n",
            "FAMILY                 2.080255e+05\n",
            "FINANCE                4.795281e+04\n",
            "FOOD_AND_DRINK         6.994748e+04\n",
            "GAME                   1.385859e+06\n",
            "HEALTH_AND_FITNESS     1.111253e+05\n",
            "HOUSE_AND_HOME         4.518619e+04\n",
            "LIBRARIES_AND_DEMO     1.220139e+04\n",
            "LIFESTYLE              3.372457e+04\n",
            "MAPS_AND_NAVIGATION    2.237902e+05\n",
            "MEDICAL                3.425432e+03\n",
            "NEWS_AND_MAGAZINES     1.922292e+05\n",
            "PARENTING              1.597218e+04\n",
            "PERSONALIZATION        2.279238e+05\n",
            "PHOTOGRAPHY            6.373631e+05\n",
            "PRODUCTIVITY           2.691438e+05\n",
            "SHOPPING               4.424662e+05\n",
            "SOCIAL                 2.105903e+06\n",
            "SPORTS                 1.844536e+05\n",
            "TOOLS                  3.240629e+05\n",
            "TRAVEL_AND_LOCAL       2.427051e+05\n",
            "VIDEO_PLAYERS          6.307439e+05\n",
            "WEATHER                1.781065e+05\n",
            "Name: Reviews, dtype: float64\n"
          ]
        }
      ]
    },
    {
      "cell_type": "code",
      "source": [
        "df.dropna(inplace=True)"
      ],
      "metadata": {
        "id": "1HdYjWFC7PeO"
      },
      "execution_count": 41,
      "outputs": []
    },
    {
      "cell_type": "code",
      "source": [
        "df.to_excel(r'C:\\\\Users\\Desktop\\Play_Store_CLean_data.xlsx', index = False)"
      ],
      "metadata": {
        "id": "LIe399dw0V5B"
      },
      "execution_count": 42,
      "outputs": []
    },
    {
      "cell_type": "code",
      "source": [
        "plt.style.use('ggplot')\n",
        "from matplotlib.pyplot import figure"
      ],
      "metadata": {
        "id": "lQsUNRjq-QY7"
      },
      "execution_count": 43,
      "outputs": []
    },
    {
      "cell_type": "code",
      "source": [
        "import mysql.connector as mysqlConnector\n",
        "\n",
        "#Database Connection\n",
        "\n",
        "conn = mysqlConnector.connect(host='localhost', user='root', passwd='Qwerty#1234', db='playstore')\n",
        "\n",
        "if conn:\n",
        "    print(\"Connection Successful :)\")\n",
        "else:\n",
        "    print(\"Connection Failed :(\")\n",
        "\n",
        "#conn.close()"
      ],
      "metadata": {
        "id": "DE5IUIAJDidC"
      },
      "execution_count": null,
      "outputs": []
    },
    {
      "cell_type": "code",
      "source": [
        "#Preparing Cursor Object\n",
        "\n",
        "cursor = conn.cursor()"
      ],
      "metadata": {
        "id": "o4gIXUVrEWBa"
      },
      "execution_count": null,
      "outputs": []
    },
    {
      "cell_type": "code",
      "source": [
        "#creating column list for insertion\n",
        "cols = \",\".join([str(i) for i in df.columns.tolist()])\n",
        "\n",
        "#Insert DataFrame records one by one\n",
        "\n",
        "for i, row in df.iterrows():\n",
        "     sql = \"INSERT INTO 'google_data' ('\" +cols+ \"') VALUES (\" + \"%s,\"*(len(row)))"
      ],
      "metadata": {
        "id": "qTfAZd2iEiLL"
      },
      "execution_count": null,
      "outputs": []
    },
    {
      "cell_type": "code",
      "source": [
        "#Machine Learning\n",
        "\n",
        "ml=df\n",
        "ml.describe()\n"
      ],
      "metadata": {
        "colab": {
          "base_uri": "https://localhost:8080/",
          "height": 300
        },
        "id": "chNEBQl1HK7K",
        "outputId": "e250f983-1d3e-4b46-830a-b489efe5df89"
      },
      "execution_count": 44,
      "outputs": [
        {
          "output_type": "execute_result",
          "data": {
            "text/html": [
              "\n",
              "  <div id=\"df-9e6485de-9f80-469e-baf6-9e9e4145ec9c\">\n",
              "    <div class=\"colab-df-container\">\n",
              "      <div>\n",
              "<style scoped>\n",
              "    .dataframe tbody tr th:only-of-type {\n",
              "        vertical-align: middle;\n",
              "    }\n",
              "\n",
              "    .dataframe tbody tr th {\n",
              "        vertical-align: top;\n",
              "    }\n",
              "\n",
              "    .dataframe thead th {\n",
              "        text-align: right;\n",
              "    }\n",
              "</style>\n",
              "<table border=\"1\" class=\"dataframe\">\n",
              "  <thead>\n",
              "    <tr style=\"text-align: right;\">\n",
              "      <th></th>\n",
              "      <th>Rating</th>\n",
              "      <th>Reviews</th>\n",
              "      <th>Size</th>\n",
              "      <th>Installs</th>\n",
              "      <th>Price</th>\n",
              "    </tr>\n",
              "  </thead>\n",
              "  <tbody>\n",
              "    <tr>\n",
              "      <th>count</th>\n",
              "      <td>10840.000000</td>\n",
              "      <td>1.084000e+04</td>\n",
              "      <td>10840.000000</td>\n",
              "      <td>1.084000e+04</td>\n",
              "      <td>10840.000000</td>\n",
              "    </tr>\n",
              "    <tr>\n",
              "      <th>mean</th>\n",
              "      <td>4.191757</td>\n",
              "      <td>4.441529e+05</td>\n",
              "      <td>21.846221</td>\n",
              "      <td>1.546434e+07</td>\n",
              "      <td>1.027377</td>\n",
              "    </tr>\n",
              "    <tr>\n",
              "      <th>std</th>\n",
              "      <td>0.478907</td>\n",
              "      <td>2.927761e+06</td>\n",
              "      <td>22.523241</td>\n",
              "      <td>8.502936e+07</td>\n",
              "      <td>15.948910</td>\n",
              "    </tr>\n",
              "    <tr>\n",
              "      <th>min</th>\n",
              "      <td>1.000000</td>\n",
              "      <td>0.000000e+00</td>\n",
              "      <td>0.008500</td>\n",
              "      <td>0.000000e+00</td>\n",
              "      <td>0.000000</td>\n",
              "    </tr>\n",
              "    <tr>\n",
              "      <th>25%</th>\n",
              "      <td>4.100000</td>\n",
              "      <td>3.800000e+01</td>\n",
              "      <td>5.100000</td>\n",
              "      <td>1.000000e+03</td>\n",
              "      <td>0.000000</td>\n",
              "    </tr>\n",
              "    <tr>\n",
              "      <th>50%</th>\n",
              "      <td>4.200000</td>\n",
              "      <td>2.094000e+03</td>\n",
              "      <td>14.000000</td>\n",
              "      <td>1.000000e+05</td>\n",
              "      <td>0.000000</td>\n",
              "    </tr>\n",
              "    <tr>\n",
              "      <th>75%</th>\n",
              "      <td>4.500000</td>\n",
              "      <td>5.477550e+04</td>\n",
              "      <td>30.000000</td>\n",
              "      <td>5.000000e+06</td>\n",
              "      <td>0.000000</td>\n",
              "    </tr>\n",
              "    <tr>\n",
              "      <th>max</th>\n",
              "      <td>5.000000</td>\n",
              "      <td>7.815831e+07</td>\n",
              "      <td>100.000000</td>\n",
              "      <td>1.000000e+09</td>\n",
              "      <td>400.000000</td>\n",
              "    </tr>\n",
              "  </tbody>\n",
              "</table>\n",
              "</div>\n",
              "      <button class=\"colab-df-convert\" onclick=\"convertToInteractive('df-9e6485de-9f80-469e-baf6-9e9e4145ec9c')\"\n",
              "              title=\"Convert this dataframe to an interactive table.\"\n",
              "              style=\"display:none;\">\n",
              "        \n",
              "  <svg xmlns=\"http://www.w3.org/2000/svg\" height=\"24px\"viewBox=\"0 0 24 24\"\n",
              "       width=\"24px\">\n",
              "    <path d=\"M0 0h24v24H0V0z\" fill=\"none\"/>\n",
              "    <path d=\"M18.56 5.44l.94 2.06.94-2.06 2.06-.94-2.06-.94-.94-2.06-.94 2.06-2.06.94zm-11 1L8.5 8.5l.94-2.06 2.06-.94-2.06-.94L8.5 2.5l-.94 2.06-2.06.94zm10 10l.94 2.06.94-2.06 2.06-.94-2.06-.94-.94-2.06-.94 2.06-2.06.94z\"/><path d=\"M17.41 7.96l-1.37-1.37c-.4-.4-.92-.59-1.43-.59-.52 0-1.04.2-1.43.59L10.3 9.45l-7.72 7.72c-.78.78-.78 2.05 0 2.83L4 21.41c.39.39.9.59 1.41.59.51 0 1.02-.2 1.41-.59l7.78-7.78 2.81-2.81c.8-.78.8-2.07 0-2.86zM5.41 20L4 18.59l7.72-7.72 1.47 1.35L5.41 20z\"/>\n",
              "  </svg>\n",
              "      </button>\n",
              "      \n",
              "  <style>\n",
              "    .colab-df-container {\n",
              "      display:flex;\n",
              "      flex-wrap:wrap;\n",
              "      gap: 12px;\n",
              "    }\n",
              "\n",
              "    .colab-df-convert {\n",
              "      background-color: #E8F0FE;\n",
              "      border: none;\n",
              "      border-radius: 50%;\n",
              "      cursor: pointer;\n",
              "      display: none;\n",
              "      fill: #1967D2;\n",
              "      height: 32px;\n",
              "      padding: 0 0 0 0;\n",
              "      width: 32px;\n",
              "    }\n",
              "\n",
              "    .colab-df-convert:hover {\n",
              "      background-color: #E2EBFA;\n",
              "      box-shadow: 0px 1px 2px rgba(60, 64, 67, 0.3), 0px 1px 3px 1px rgba(60, 64, 67, 0.15);\n",
              "      fill: #174EA6;\n",
              "    }\n",
              "\n",
              "    [theme=dark] .colab-df-convert {\n",
              "      background-color: #3B4455;\n",
              "      fill: #D2E3FC;\n",
              "    }\n",
              "\n",
              "    [theme=dark] .colab-df-convert:hover {\n",
              "      background-color: #434B5C;\n",
              "      box-shadow: 0px 1px 3px 1px rgba(0, 0, 0, 0.15);\n",
              "      filter: drop-shadow(0px 1px 2px rgba(0, 0, 0, 0.3));\n",
              "      fill: #FFFFFF;\n",
              "    }\n",
              "  </style>\n",
              "\n",
              "      <script>\n",
              "        const buttonEl =\n",
              "          document.querySelector('#df-9e6485de-9f80-469e-baf6-9e9e4145ec9c button.colab-df-convert');\n",
              "        buttonEl.style.display =\n",
              "          google.colab.kernel.accessAllowed ? 'block' : 'none';\n",
              "\n",
              "        async function convertToInteractive(key) {\n",
              "          const element = document.querySelector('#df-9e6485de-9f80-469e-baf6-9e9e4145ec9c');\n",
              "          const dataTable =\n",
              "            await google.colab.kernel.invokeFunction('convertToInteractive',\n",
              "                                                     [key], {});\n",
              "          if (!dataTable) return;\n",
              "\n",
              "          const docLinkHtml = 'Like what you see? Visit the ' +\n",
              "            '<a target=\"_blank\" href=https://colab.research.google.com/notebooks/data_table.ipynb>data table notebook</a>'\n",
              "            + ' to learn more about interactive tables.';\n",
              "          element.innerHTML = '';\n",
              "          dataTable['output_type'] = 'display_data';\n",
              "          await google.colab.output.renderOutput(dataTable, element);\n",
              "          const docLink = document.createElement('div');\n",
              "          docLink.innerHTML = docLinkHtml;\n",
              "          element.appendChild(docLink);\n",
              "        }\n",
              "      </script>\n",
              "    </div>\n",
              "  </div>\n",
              "  "
            ],
            "text/plain": [
              "             Rating       Reviews          Size      Installs         Price\n",
              "count  10840.000000  1.084000e+04  10840.000000  1.084000e+04  10840.000000\n",
              "mean       4.191757  4.441529e+05     21.846221  1.546434e+07      1.027377\n",
              "std        0.478907  2.927761e+06     22.523241  8.502936e+07     15.948910\n",
              "min        1.000000  0.000000e+00      0.008500  0.000000e+00      0.000000\n",
              "25%        4.100000  3.800000e+01      5.100000  1.000000e+03      0.000000\n",
              "50%        4.200000  2.094000e+03     14.000000  1.000000e+05      0.000000\n",
              "75%        4.500000  5.477550e+04     30.000000  5.000000e+06      0.000000\n",
              "max        5.000000  7.815831e+07    100.000000  1.000000e+09    400.000000"
            ]
          },
          "metadata": {},
          "execution_count": 44
        }
      ]
    },
    {
      "cell_type": "code",
      "source": [
        "#Dropping the columns which are not useful for Regression\n",
        "\n",
        "mlr=df[['Category', 'Rating','Reviews','Size', 'Installs', 'Type', 'Price', 'Content_Rating']]"
      ],
      "metadata": {
        "id": "mHa--ksvJxKi"
      },
      "execution_count": 45,
      "outputs": []
    },
    {
      "cell_type": "code",
      "source": [
        "# One-Hot encoding for the column App\n",
        "\n",
        "app_dummies = pd.get_dummies(df.Category, drop_first=True)\n",
        "mlr = pd.concat([mlr, app_dummies], axis=1)\n",
        "mlr.drop('Category', axis=1, inplace=True)"
      ],
      "metadata": {
        "id": "lrW0uXh4KUWS"
      },
      "execution_count": 46,
      "outputs": []
    },
    {
      "cell_type": "code",
      "source": [
        "#Mapping Type Column\n",
        "\n",
        "print(mlr.Type.unique())\n",
        "mlr['Type'] = mlr['Type'].map({'Free':0, 'Paid':1}).astype(int)"
      ],
      "metadata": {
        "colab": {
          "base_uri": "https://localhost:8080/"
        },
        "id": "Vvh53Jf6LBST",
        "outputId": "75d39e20-df30-481c-f655-f630b17ec140"
      },
      "execution_count": 47,
      "outputs": [
        {
          "output_type": "stream",
          "name": "stdout",
          "text": [
            "['Free' 'Paid']\n"
          ]
        }
      ]
    },
    {
      "cell_type": "code",
      "source": [
        "#Mapping Content Rating Column\n",
        "\n",
        "print(mlr['Content_Rating'].unique())\n",
        "\n",
        "mlr['Content_Rating']= mlr['Content_Rating'].map({'Everyone 10+':0, 'Teen':1, 'Mature 17+':2, })"
      ],
      "metadata": {
        "colab": {
          "base_uri": "https://localhost:8080/"
        },
        "id": "ukxWlo7lLY_y",
        "outputId": "c29b051d-1596-4f11-9125-1a7e511da06e"
      },
      "execution_count": 48,
      "outputs": [
        {
          "output_type": "stream",
          "name": "stdout",
          "text": [
            "['Everyone' 'Teen' 'Everyone 10+' 'Mature 17+' 'Adults only 18+']\n"
          ]
        }
      ]
    },
    {
      "cell_type": "code",
      "source": [
        "mlr.head()"
      ],
      "metadata": {
        "colab": {
          "base_uri": "https://localhost:8080/",
          "height": 270
        },
        "id": "Yj1gvxr60PNh",
        "outputId": "305ab65e-04e6-4095-8461-f48a041e72b9"
      },
      "execution_count": 49,
      "outputs": [
        {
          "output_type": "execute_result",
          "data": {
            "text/html": [
              "\n",
              "  <div id=\"df-e8a9d59c-1648-4f0f-9b82-ddaa6a31ee71\">\n",
              "    <div class=\"colab-df-container\">\n",
              "      <div>\n",
              "<style scoped>\n",
              "    .dataframe tbody tr th:only-of-type {\n",
              "        vertical-align: middle;\n",
              "    }\n",
              "\n",
              "    .dataframe tbody tr th {\n",
              "        vertical-align: top;\n",
              "    }\n",
              "\n",
              "    .dataframe thead th {\n",
              "        text-align: right;\n",
              "    }\n",
              "</style>\n",
              "<table border=\"1\" class=\"dataframe\">\n",
              "  <thead>\n",
              "    <tr style=\"text-align: right;\">\n",
              "      <th></th>\n",
              "      <th>Rating</th>\n",
              "      <th>Reviews</th>\n",
              "      <th>Size</th>\n",
              "      <th>Installs</th>\n",
              "      <th>Type</th>\n",
              "      <th>Price</th>\n",
              "      <th>Content_Rating</th>\n",
              "      <th>AUTO_AND_VEHICLES</th>\n",
              "      <th>BEAUTY</th>\n",
              "      <th>BOOKS_AND_REFERENCE</th>\n",
              "      <th>BUSINESS</th>\n",
              "      <th>COMICS</th>\n",
              "      <th>COMMUNICATION</th>\n",
              "      <th>DATING</th>\n",
              "      <th>EDUCATION</th>\n",
              "      <th>ENTERTAINMENT</th>\n",
              "      <th>EVENTS</th>\n",
              "      <th>FAMILY</th>\n",
              "      <th>FINANCE</th>\n",
              "      <th>FOOD_AND_DRINK</th>\n",
              "      <th>GAME</th>\n",
              "      <th>HEALTH_AND_FITNESS</th>\n",
              "      <th>HOUSE_AND_HOME</th>\n",
              "      <th>LIBRARIES_AND_DEMO</th>\n",
              "      <th>LIFESTYLE</th>\n",
              "      <th>MAPS_AND_NAVIGATION</th>\n",
              "      <th>MEDICAL</th>\n",
              "      <th>NEWS_AND_MAGAZINES</th>\n",
              "      <th>PARENTING</th>\n",
              "      <th>PERSONALIZATION</th>\n",
              "      <th>PHOTOGRAPHY</th>\n",
              "      <th>PRODUCTIVITY</th>\n",
              "      <th>SHOPPING</th>\n",
              "      <th>SOCIAL</th>\n",
              "      <th>SPORTS</th>\n",
              "      <th>TOOLS</th>\n",
              "      <th>TRAVEL_AND_LOCAL</th>\n",
              "      <th>VIDEO_PLAYERS</th>\n",
              "      <th>WEATHER</th>\n",
              "    </tr>\n",
              "  </thead>\n",
              "  <tbody>\n",
              "    <tr>\n",
              "      <th>0</th>\n",
              "      <td>4.1</td>\n",
              "      <td>159</td>\n",
              "      <td>19.0</td>\n",
              "      <td>10000</td>\n",
              "      <td>0</td>\n",
              "      <td>0.0</td>\n",
              "      <td>NaN</td>\n",
              "      <td>0</td>\n",
              "      <td>0</td>\n",
              "      <td>0</td>\n",
              "      <td>0</td>\n",
              "      <td>0</td>\n",
              "      <td>0</td>\n",
              "      <td>0</td>\n",
              "      <td>0</td>\n",
              "      <td>0</td>\n",
              "      <td>0</td>\n",
              "      <td>0</td>\n",
              "      <td>0</td>\n",
              "      <td>0</td>\n",
              "      <td>0</td>\n",
              "      <td>0</td>\n",
              "      <td>0</td>\n",
              "      <td>0</td>\n",
              "      <td>0</td>\n",
              "      <td>0</td>\n",
              "      <td>0</td>\n",
              "      <td>0</td>\n",
              "      <td>0</td>\n",
              "      <td>0</td>\n",
              "      <td>0</td>\n",
              "      <td>0</td>\n",
              "      <td>0</td>\n",
              "      <td>0</td>\n",
              "      <td>0</td>\n",
              "      <td>0</td>\n",
              "      <td>0</td>\n",
              "      <td>0</td>\n",
              "      <td>0</td>\n",
              "    </tr>\n",
              "    <tr>\n",
              "      <th>1</th>\n",
              "      <td>3.9</td>\n",
              "      <td>967</td>\n",
              "      <td>14.0</td>\n",
              "      <td>500000</td>\n",
              "      <td>0</td>\n",
              "      <td>0.0</td>\n",
              "      <td>NaN</td>\n",
              "      <td>0</td>\n",
              "      <td>0</td>\n",
              "      <td>0</td>\n",
              "      <td>0</td>\n",
              "      <td>0</td>\n",
              "      <td>0</td>\n",
              "      <td>0</td>\n",
              "      <td>0</td>\n",
              "      <td>0</td>\n",
              "      <td>0</td>\n",
              "      <td>0</td>\n",
              "      <td>0</td>\n",
              "      <td>0</td>\n",
              "      <td>0</td>\n",
              "      <td>0</td>\n",
              "      <td>0</td>\n",
              "      <td>0</td>\n",
              "      <td>0</td>\n",
              "      <td>0</td>\n",
              "      <td>0</td>\n",
              "      <td>0</td>\n",
              "      <td>0</td>\n",
              "      <td>0</td>\n",
              "      <td>0</td>\n",
              "      <td>0</td>\n",
              "      <td>0</td>\n",
              "      <td>0</td>\n",
              "      <td>0</td>\n",
              "      <td>0</td>\n",
              "      <td>0</td>\n",
              "      <td>0</td>\n",
              "      <td>0</td>\n",
              "    </tr>\n",
              "    <tr>\n",
              "      <th>2</th>\n",
              "      <td>4.7</td>\n",
              "      <td>87510</td>\n",
              "      <td>8.7</td>\n",
              "      <td>5000000</td>\n",
              "      <td>0</td>\n",
              "      <td>0.0</td>\n",
              "      <td>NaN</td>\n",
              "      <td>0</td>\n",
              "      <td>0</td>\n",
              "      <td>0</td>\n",
              "      <td>0</td>\n",
              "      <td>0</td>\n",
              "      <td>0</td>\n",
              "      <td>0</td>\n",
              "      <td>0</td>\n",
              "      <td>0</td>\n",
              "      <td>0</td>\n",
              "      <td>0</td>\n",
              "      <td>0</td>\n",
              "      <td>0</td>\n",
              "      <td>0</td>\n",
              "      <td>0</td>\n",
              "      <td>0</td>\n",
              "      <td>0</td>\n",
              "      <td>0</td>\n",
              "      <td>0</td>\n",
              "      <td>0</td>\n",
              "      <td>0</td>\n",
              "      <td>0</td>\n",
              "      <td>0</td>\n",
              "      <td>0</td>\n",
              "      <td>0</td>\n",
              "      <td>0</td>\n",
              "      <td>0</td>\n",
              "      <td>0</td>\n",
              "      <td>0</td>\n",
              "      <td>0</td>\n",
              "      <td>0</td>\n",
              "      <td>0</td>\n",
              "    </tr>\n",
              "    <tr>\n",
              "      <th>3</th>\n",
              "      <td>4.5</td>\n",
              "      <td>215644</td>\n",
              "      <td>25.0</td>\n",
              "      <td>50000000</td>\n",
              "      <td>0</td>\n",
              "      <td>0.0</td>\n",
              "      <td>1.0</td>\n",
              "      <td>0</td>\n",
              "      <td>0</td>\n",
              "      <td>0</td>\n",
              "      <td>0</td>\n",
              "      <td>0</td>\n",
              "      <td>0</td>\n",
              "      <td>0</td>\n",
              "      <td>0</td>\n",
              "      <td>0</td>\n",
              "      <td>0</td>\n",
              "      <td>0</td>\n",
              "      <td>0</td>\n",
              "      <td>0</td>\n",
              "      <td>0</td>\n",
              "      <td>0</td>\n",
              "      <td>0</td>\n",
              "      <td>0</td>\n",
              "      <td>0</td>\n",
              "      <td>0</td>\n",
              "      <td>0</td>\n",
              "      <td>0</td>\n",
              "      <td>0</td>\n",
              "      <td>0</td>\n",
              "      <td>0</td>\n",
              "      <td>0</td>\n",
              "      <td>0</td>\n",
              "      <td>0</td>\n",
              "      <td>0</td>\n",
              "      <td>0</td>\n",
              "      <td>0</td>\n",
              "      <td>0</td>\n",
              "      <td>0</td>\n",
              "    </tr>\n",
              "    <tr>\n",
              "      <th>4</th>\n",
              "      <td>4.3</td>\n",
              "      <td>967</td>\n",
              "      <td>2.8</td>\n",
              "      <td>100000</td>\n",
              "      <td>0</td>\n",
              "      <td>0.0</td>\n",
              "      <td>NaN</td>\n",
              "      <td>0</td>\n",
              "      <td>0</td>\n",
              "      <td>0</td>\n",
              "      <td>0</td>\n",
              "      <td>0</td>\n",
              "      <td>0</td>\n",
              "      <td>0</td>\n",
              "      <td>0</td>\n",
              "      <td>0</td>\n",
              "      <td>0</td>\n",
              "      <td>0</td>\n",
              "      <td>0</td>\n",
              "      <td>0</td>\n",
              "      <td>0</td>\n",
              "      <td>0</td>\n",
              "      <td>0</td>\n",
              "      <td>0</td>\n",
              "      <td>0</td>\n",
              "      <td>0</td>\n",
              "      <td>0</td>\n",
              "      <td>0</td>\n",
              "      <td>0</td>\n",
              "      <td>0</td>\n",
              "      <td>0</td>\n",
              "      <td>0</td>\n",
              "      <td>0</td>\n",
              "      <td>0</td>\n",
              "      <td>0</td>\n",
              "      <td>0</td>\n",
              "      <td>0</td>\n",
              "      <td>0</td>\n",
              "      <td>0</td>\n",
              "    </tr>\n",
              "  </tbody>\n",
              "</table>\n",
              "</div>\n",
              "      <button class=\"colab-df-convert\" onclick=\"convertToInteractive('df-e8a9d59c-1648-4f0f-9b82-ddaa6a31ee71')\"\n",
              "              title=\"Convert this dataframe to an interactive table.\"\n",
              "              style=\"display:none;\">\n",
              "        \n",
              "  <svg xmlns=\"http://www.w3.org/2000/svg\" height=\"24px\"viewBox=\"0 0 24 24\"\n",
              "       width=\"24px\">\n",
              "    <path d=\"M0 0h24v24H0V0z\" fill=\"none\"/>\n",
              "    <path d=\"M18.56 5.44l.94 2.06.94-2.06 2.06-.94-2.06-.94-.94-2.06-.94 2.06-2.06.94zm-11 1L8.5 8.5l.94-2.06 2.06-.94-2.06-.94L8.5 2.5l-.94 2.06-2.06.94zm10 10l.94 2.06.94-2.06 2.06-.94-2.06-.94-.94-2.06-.94 2.06-2.06.94z\"/><path d=\"M17.41 7.96l-1.37-1.37c-.4-.4-.92-.59-1.43-.59-.52 0-1.04.2-1.43.59L10.3 9.45l-7.72 7.72c-.78.78-.78 2.05 0 2.83L4 21.41c.39.39.9.59 1.41.59.51 0 1.02-.2 1.41-.59l7.78-7.78 2.81-2.81c.8-.78.8-2.07 0-2.86zM5.41 20L4 18.59l7.72-7.72 1.47 1.35L5.41 20z\"/>\n",
              "  </svg>\n",
              "      </button>\n",
              "      \n",
              "  <style>\n",
              "    .colab-df-container {\n",
              "      display:flex;\n",
              "      flex-wrap:wrap;\n",
              "      gap: 12px;\n",
              "    }\n",
              "\n",
              "    .colab-df-convert {\n",
              "      background-color: #E8F0FE;\n",
              "      border: none;\n",
              "      border-radius: 50%;\n",
              "      cursor: pointer;\n",
              "      display: none;\n",
              "      fill: #1967D2;\n",
              "      height: 32px;\n",
              "      padding: 0 0 0 0;\n",
              "      width: 32px;\n",
              "    }\n",
              "\n",
              "    .colab-df-convert:hover {\n",
              "      background-color: #E2EBFA;\n",
              "      box-shadow: 0px 1px 2px rgba(60, 64, 67, 0.3), 0px 1px 3px 1px rgba(60, 64, 67, 0.15);\n",
              "      fill: #174EA6;\n",
              "    }\n",
              "\n",
              "    [theme=dark] .colab-df-convert {\n",
              "      background-color: #3B4455;\n",
              "      fill: #D2E3FC;\n",
              "    }\n",
              "\n",
              "    [theme=dark] .colab-df-convert:hover {\n",
              "      background-color: #434B5C;\n",
              "      box-shadow: 0px 1px 3px 1px rgba(0, 0, 0, 0.15);\n",
              "      filter: drop-shadow(0px 1px 2px rgba(0, 0, 0, 0.3));\n",
              "      fill: #FFFFFF;\n",
              "    }\n",
              "  </style>\n",
              "\n",
              "      <script>\n",
              "        const buttonEl =\n",
              "          document.querySelector('#df-e8a9d59c-1648-4f0f-9b82-ddaa6a31ee71 button.colab-df-convert');\n",
              "        buttonEl.style.display =\n",
              "          google.colab.kernel.accessAllowed ? 'block' : 'none';\n",
              "\n",
              "        async function convertToInteractive(key) {\n",
              "          const element = document.querySelector('#df-e8a9d59c-1648-4f0f-9b82-ddaa6a31ee71');\n",
              "          const dataTable =\n",
              "            await google.colab.kernel.invokeFunction('convertToInteractive',\n",
              "                                                     [key], {});\n",
              "          if (!dataTable) return;\n",
              "\n",
              "          const docLinkHtml = 'Like what you see? Visit the ' +\n",
              "            '<a target=\"_blank\" href=https://colab.research.google.com/notebooks/data_table.ipynb>data table notebook</a>'\n",
              "            + ' to learn more about interactive tables.';\n",
              "          element.innerHTML = '';\n",
              "          dataTable['output_type'] = 'display_data';\n",
              "          await google.colab.output.renderOutput(dataTable, element);\n",
              "          const docLink = document.createElement('div');\n",
              "          docLink.innerHTML = docLinkHtml;\n",
              "          element.appendChild(docLink);\n",
              "        }\n",
              "      </script>\n",
              "    </div>\n",
              "  </div>\n",
              "  "
            ],
            "text/plain": [
              "   Rating  Reviews  Size  Installs  Type  Price  Content_Rating  \\\n",
              "0     4.1      159  19.0     10000     0    0.0             NaN   \n",
              "1     3.9      967  14.0    500000     0    0.0             NaN   \n",
              "2     4.7    87510   8.7   5000000     0    0.0             NaN   \n",
              "3     4.5   215644  25.0  50000000     0    0.0             1.0   \n",
              "4     4.3      967   2.8    100000     0    0.0             NaN   \n",
              "\n",
              "   AUTO_AND_VEHICLES  BEAUTY  BOOKS_AND_REFERENCE  BUSINESS  COMICS  \\\n",
              "0                  0       0                    0         0       0   \n",
              "1                  0       0                    0         0       0   \n",
              "2                  0       0                    0         0       0   \n",
              "3                  0       0                    0         0       0   \n",
              "4                  0       0                    0         0       0   \n",
              "\n",
              "   COMMUNICATION  DATING  EDUCATION  ENTERTAINMENT  EVENTS  FAMILY  FINANCE  \\\n",
              "0              0       0          0              0       0       0        0   \n",
              "1              0       0          0              0       0       0        0   \n",
              "2              0       0          0              0       0       0        0   \n",
              "3              0       0          0              0       0       0        0   \n",
              "4              0       0          0              0       0       0        0   \n",
              "\n",
              "   FOOD_AND_DRINK  GAME  HEALTH_AND_FITNESS  HOUSE_AND_HOME  \\\n",
              "0               0     0                   0               0   \n",
              "1               0     0                   0               0   \n",
              "2               0     0                   0               0   \n",
              "3               0     0                   0               0   \n",
              "4               0     0                   0               0   \n",
              "\n",
              "   LIBRARIES_AND_DEMO  LIFESTYLE  MAPS_AND_NAVIGATION  MEDICAL  \\\n",
              "0                   0          0                    0        0   \n",
              "1                   0          0                    0        0   \n",
              "2                   0          0                    0        0   \n",
              "3                   0          0                    0        0   \n",
              "4                   0          0                    0        0   \n",
              "\n",
              "   NEWS_AND_MAGAZINES  PARENTING  PERSONALIZATION  PHOTOGRAPHY  PRODUCTIVITY  \\\n",
              "0                   0          0                0            0             0   \n",
              "1                   0          0                0            0             0   \n",
              "2                   0          0                0            0             0   \n",
              "3                   0          0                0            0             0   \n",
              "4                   0          0                0            0             0   \n",
              "\n",
              "   SHOPPING  SOCIAL  SPORTS  TOOLS  TRAVEL_AND_LOCAL  VIDEO_PLAYERS  WEATHER  \n",
              "0         0       0       0      0                 0              0        0  \n",
              "1         0       0       0      0                 0              0        0  \n",
              "2         0       0       0      0                 0              0        0  \n",
              "3         0       0       0      0                 0              0        0  \n",
              "4         0       0       0      0                 0              0        0  "
            ]
          },
          "metadata": {},
          "execution_count": 49
        }
      ]
    },
    {
      "cell_type": "code",
      "source": [
        "from sklearn import linear_model\n",
        "\n",
        "X=mlr[['Reviews', 'Size', 'Installs', 'Type', 'Price',\n",
        "       'Content_Rating', 'AUTO_AND_VEHICLES', 'BEAUTY',\n",
        "       'BOOKS_AND_REFERENCE', 'BUSINESS', 'COMICS', 'COMMUNICATION', 'DATING',\n",
        "       'EDUCATION', 'ENTERTAINMENT', 'EVENTS', 'FAMILY', 'FINANCE',\n",
        "       'FOOD_AND_DRINK', 'GAME', 'HEALTH_AND_FITNESS', 'HOUSE_AND_HOME',\n",
        "       'LIBRARIES_AND_DEMO', 'LIFESTYLE', 'MAPS_AND_NAVIGATION', 'MEDICAL',\n",
        "       'NEWS_AND_MAGAZINES', 'PARENTING', 'PERSONALIZATION', 'PHOTOGRAPHY',\n",
        "       'PRODUCTIVITY', 'SHOPPING', 'SOCIAL', 'SPORTS', 'TOOLS',\n",
        "       'TRAVEL_AND_LOCAL', 'VIDEO_PLAYERS', 'WEATHER']]\n",
        "Y=mlr[['Rating']]"
      ],
      "metadata": {
        "id": "bZVevPD80TzP"
      },
      "execution_count": 50,
      "outputs": []
    },
    {
      "cell_type": "code",
      "source": [
        "from sklearn import preprocessing\n",
        "mm_scaler = preprocessing.MinMaxScaler()\n",
        "X=mm_scaler.fit_transform(X)\n",
        "\n",
        "Y=Y.round()\n",
        "\n",
        "from sklearn.model_selection import train_test_split\n",
        "X_train, X_test, y_train, y_test = train_test_split(X, Y, test_size=0.2, random_state=0)"
      ],
      "metadata": {
        "id": "F5wsZ0Yc1LAe"
      },
      "execution_count": 54,
      "outputs": []
    },
    {
      "cell_type": "code",
      "source": [
        "#Decision Tree\n",
        "\n",
        "from sklearn.metrics import confusion_matrix, accuracy_score\n",
        "from sklearn.tree import DecisionTreeClassifier"
      ],
      "metadata": {
        "id": "pSVZ3jnI2H3b"
      },
      "execution_count": 55,
      "outputs": []
    },
    {
      "cell_type": "code",
      "source": [
        "decision_tree=DecisionTreeClassifier( max_depth = 5,criterion='entropy',random_state=0)\n",
        "decision_tree.fit(X_train,y_train)\n",
        "decision_pred=decision_tree.predict(X_test)\n",
        "decision_confusion=confusion_matrix(y_test,decision_pred)\n",
        "accuracy=accuracy_score(decision_pred,y_test)"
      ],
      "metadata": {
        "id": "mOkqT6p38Tnr"
      },
      "execution_count": null,
      "outputs": []
    },
    {
      "cell_type": "code",
      "source": [
        "plt.figure(figsize=(10,5))\n",
        "plt.title(\"decision_confusion matrix\")\n",
        "sns.heatmap(decision_confusion,annot=True,fmt=\"d\",cbar=False)\n",
        "print(\"Accuracy on training set: {}\".format(decision_tree.score(X_train, y_train)))\n",
        "print('Accuracy on testing set:',accuracy)"
      ],
      "metadata": {
        "id": "TG_XnUcw9LRk"
      },
      "execution_count": null,
      "outputs": []
    },
    {
      "cell_type": "code",
      "source": [
        "decision_tree=DecisionTreeClassifier( max_depth = 4,criterion='entropy',random_state=0)\n",
        "decision_tree.fit(X_train,y_train)\n",
        "decision_pred=decision_tree.predict(X_test)\n",
        "decision_confusion=confusion_matrix(y_test,decision_pred)\n",
        "accuracy=accuracy_score(decision_pred,y_test)"
      ],
      "metadata": {
        "id": "83AsN7Vu9UCO"
      },
      "execution_count": null,
      "outputs": []
    },
    {
      "cell_type": "code",
      "source": [
        "Decision_Train_score =  decision_tree.score(X_train, y_train) * 100\n",
        "Decision_Test_score = accuracy_score(decision_pred,y_test) * 100"
      ],
      "metadata": {
        "id": "7y9IzIB09U6w"
      },
      "execution_count": null,
      "outputs": []
    },
    {
      "cell_type": "code",
      "source": [
        "#Grid Search\n",
        "\n",
        "from sklearn.tree import DecisionTreeClassifier\n",
        "from sklearn.model_selection import GridSearchCV\n",
        "\n",
        "dt=DecisionTreeClassifer()\n",
        "param_grid= {'criterion': ['gini','entropy'], 'max_depth': list(range(3,10))}\n",
        "\n",
        "dtree_clf = GridSearchCV(dt, param_grid, cv=10, return_train_score=True)\n",
        "dtree_clf.fit(X_train, y_train)"
      ],
      "metadata": {
        "id": "KjmgcntJ9X_V"
      },
      "execution_count": null,
      "outputs": []
    },
    {
      "cell_type": "code",
      "source": [
        "dtree_clf.best_params_"
      ],
      "metadata": {
        "id": "-9RWbCFI-uqM"
      },
      "execution_count": null,
      "outputs": []
    },
    {
      "cell_type": "code",
      "source": [
        "#Random Forest Classifier\n",
        "from sklearn.ensemble import RandomForestClassifier, RandomForestRegressor\n",
        "rdf_c=RandomForestClassifier(bootstrap= True, max_depth= 18, max_features=3,min_samples_leaf=3, min_samples_split=8, n_estimators=200, random_state=0)\n",
        "rdf_c.fit(X_train,y_train)\n",
        "rdf_pred=rdf_c.predict(X_test)\n",
        "rdf_cm=confusion_matrix(y_test,rdf_pred)\n",
        "rdf_ac=accuracy_score(rdf_pred,y_test)\n"
      ],
      "metadata": {
        "id": "zyH4q3lEDM7c"
      },
      "execution_count": null,
      "outputs": []
    },
    {
      "cell_type": "code",
      "source": [
        "plt.figure(figsize=(10,5))\n",
        "plt.title(\"RandomForest_ConfusionMatrix\")\n",
        "sns.heatmap(rdf_cm,annot=True,cmap=\"Blues\",fmt=\"d\",cbar=False)\n",
        "print(\"Accuracy on training set: {}\".format(rdf_c.score(X_train, y_train)))\n",
        "print('RandomForest_Test_accuracy:',rdf_ac)"
      ],
      "metadata": {
        "id": "55TlnQnYDS9Q"
      },
      "execution_count": null,
      "outputs": []
    },
    {
      "cell_type": "code",
      "source": [
        "Rf_Train_Score = rdf_c.score(X_train,y_train)*100\n",
        "Rf_Test_Score = accuracy_score(rdf_pred,y_test)*100"
      ],
      "metadata": {
        "id": "SNKjfgA2DU64"
      },
      "execution_count": null,
      "outputs": []
    },
    {
      "cell_type": "code",
      "source": [
        "from sklearn.model_selection import GridSearchCV\n",
        "\n",
        "#Create the parameter grid based on the results of random search\n",
        "\n",
        "param_grid= {\n",
        "     'bootstrap': [True],\n",
        "     'max_depth':list(range(4,20)),\n",
        "     'max_features': [2,3],\n",
        "     'min_samples_leaf': [3,4,5],\n",
        "     'min_samples_split': [8,10,12],\n",
        "     'n_estimators': [100,200,300,1000]\n",
        "}\n",
        "\n",
        "rf=RandomForestClassifier()\n",
        "\n",
        "#Instantiate the grid search Model\n",
        "grid_search = GridSearchCV(estimator = rf, param_grid=param_grid,cv=3, n_jobs=-1, verbose=2)\n",
        "\n",
        "grid_search.fit(X_train,y_train)"
      ],
      "metadata": {
        "id": "DConWZfPDl1S"
      },
      "execution_count": null,
      "outputs": []
    },
    {
      "cell_type": "code",
      "source": [
        "#KNN Classifier\n",
        "\n",
        "from sklearn.metrics import accuracy_score\n",
        "from sklearn.neighbors import KNeighborsClassifier\n",
        "from sklearn.model_selection import cross_val_score\n",
        "import matplotlib.pyplot as plt\n",
        "%matplotlib inline"
      ],
      "metadata": {
        "id": "mAO3ZZ2iFM2y"
      },
      "execution_count": 60,
      "outputs": []
    },
    {
      "cell_type": "code",
      "source": [
        "from sklearn.neighbors import KNeighborsClassifier\n",
        "\n",
        "train_score_array = []\n",
        "test_score_array = []\n",
        "\n",
        "for k in range(1,20):\n",
        "    knn = KNeighborsClassifier(k)\n",
        "    knn.fit(X_train, y_train)\n",
        "    train_score_array.append(knn.score(X_train, y_train))\n",
        "    test_score_array.append(knn.score(X_test, y_test))"
      ],
      "metadata": {
        "id": "VTMfZyesGIMw"
      },
      "execution_count": null,
      "outputs": []
    },
    {
      "cell_type": "code",
      "source": [
        "#plot the value of K and accuracy \n",
        "\n",
        "x_axis = range(1,20)\n",
        "%matplotlib inline\n",
        "plt.plot(x_axis, train_score_array, label = 'Train Score', c='g')\n",
        "plt.plot(x_axis, test_score_array, label='Test Score', c='b')\n",
        "plt.xlabel('k')\n",
        "plt.ylabel('Accuracy')\n",
        "plt.legend()"
      ],
      "metadata": {
        "id": "thwNkarxJzd3"
      },
      "execution_count": null,
      "outputs": []
    },
    {
      "cell_type": "code",
      "source": [
        "#Based on the graph generated, we selected 5 as the best number of neighbors\n",
        "\n",
        "knn = KNeighborsClassifier(5)\n",
        "knn.fit(X_train,y_train)\n",
        "print('Train score: {:.2f}'.format(knn.score(X_train,y_train)))\n",
        "print('Test score: {:.2f}'.format(knn.score(X_test, y_test)))"
      ],
      "metadata": {
        "id": "-vUtj24uKUok"
      },
      "execution_count": null,
      "outputs": []
    },
    {
      "cell_type": "code",
      "source": [
        "#search for an optimal value of K for KNN\n",
        "\n",
        "k_range = range(1,20)\n",
        "k_scores =[]\n",
        "\n",
        "for k in k_range:\n",
        "  knn = KNeighborsClassifier(n_neighbors=k)\n",
        "  scores = cross_val_score(knn, X, Y, cv=10, scoring='accuracy')\n",
        "  k_scores.append(scores.mean())\n",
        "print(k_scores)"
      ],
      "metadata": {
        "id": "1xbQF7n_LQPF"
      },
      "execution_count": null,
      "outputs": []
    },
    {
      "cell_type": "code",
      "source": [
        "#plot the value of K and the cross-validated accuracy\n",
        "\n",
        "plt.plot(k_range, k_scores)\n",
        "plt.xlabel('Value of K for KNN')\n",
        "plt.ylabel('Cross-Validated Accuracy')"
      ],
      "metadata": {
        "id": "3eq1J-jhL3Bp"
      },
      "execution_count": null,
      "outputs": []
    },
    {
      "cell_type": "code",
      "source": [
        "from sklearn.model_selection import GridSearchCV\n",
        "\n",
        "k_range = range(1, 6)\n",
        "param_grid = {'n_neighbors':k_range}\n",
        "knn_clf = GridSearchCV(knn, param_grid, cv=10, scoring='accuracy', return_train_score =True)\n",
        "knn_clf.fit(X_train, y_train)"
      ],
      "metadata": {
        "id": "_NPrWfjhMIIC"
      },
      "execution_count": null,
      "outputs": []
    },
    {
      "cell_type": "code",
      "source": [
        "print(\"Best parameters: {}\", knn_clf.best_params_)\n",
        "print(\"Best cross-validation score: {:2f}\".format(knn_clf.best_score_))"
      ],
      "metadata": {
        "id": "DSSf59_-Mwmg"
      },
      "execution_count": null,
      "outputs": []
    },
    {
      "cell_type": "code",
      "source": [
        "KNN_Train_Score = knn_clf_best.score(X_train, y_train)*100\n",
        "KNN_Test_Score = knn_clf_best.score(X_test, y_test)*100"
      ],
      "metadata": {
        "id": "CJRe0gaCNGCn"
      },
      "execution_count": null,
      "outputs": []
    },
    {
      "cell_type": "code",
      "source": [
        "knn_clf_best = KNeighborsClassifier(n_neighbors=15).fit(X_train, y_train)\n",
        "\n",
        "print('Accuracy of KNN clssifier on training set: {:.2f}'.format(knn_clf_best.score(X_train,y_train)))\n",
        "print('Accuracy of KNN clssifier on test set: {:.2f}'.format(knn_clf_best.score(X_train,y_train)))\n"
      ],
      "metadata": {
        "id": "Dwqw0vtYNYH-"
      },
      "execution_count": null,
      "outputs": []
    },
    {
      "cell_type": "code",
      "source": [
        "#Logistic Regression"
      ],
      "metadata": {
        "id": "vezwVndyb2K0"
      },
      "execution_count": null,
      "outputs": []
    },
    {
      "cell_type": "code",
      "source": [
        "from sklearn.linear_model import LogisticRegression\n",
        "\n",
        "c_range = [0.001, 0.01, 0.1, 1,10,100,1000]\n",
        "train_score_l1 = []\n",
        "train_score_l2 = []\n",
        "test_score_l1 = []\n",
        "test_score_l2 = []\n",
        "\n",
        "for c in c_range:\n",
        "  log_l1 = LogisticRegression(penalty='l1', C=c, solver = 'liblinear')\n",
        "  log_l2 = LogisticRegression(penalty= 'l2', C=c)\n",
        "  log_l1.fit(X_train, y_train)\n",
        "  log_l2.fit(X_train, y_train)\n",
        "  train_score_l1.append(log_l1.score(X_train,y_train))\n",
        "  train_score_l2.append(log_l2score(X_train, y_train))\n",
        "  test_score_l1.append(log_l1.score(X_test, y_test))\n",
        "  test_score_l2.append(log_l2.score(X_test, y_test))\n"
      ],
      "metadata": {
        "id": "D_KVFKrke0Yo"
      },
      "execution_count": null,
      "outputs": []
    },
    {
      "cell_type": "code",
      "source": [
        "import matplotlib.pyplot as plt\n",
        "%matplotlib inline\n",
        "\n",
        "plt.plot(c_range, train_score_l1, label='Train score, penalty=l1')\n",
        "plt.plot(c_range, test_score_l1, label= 'Test score, penalty=l1')\n",
        "plt.plot(c_range, test_score_l2, label= 'Train score, penalty = l2')\n",
        "plt.plot(c_range, test_score_l2, label ='Test score, penalty=l2')\n",
        "plt.legend()\n",
        "plt.xlabel('Regularization parameter: C')\n",
        "plt.ylabel('Accuracy')\n",
        "plt.xscale('log')"
      ],
      "metadata": {
        "id": "mg6gnLF-e1Q4"
      },
      "execution_count": null,
      "outputs": []
    },
    {
      "cell_type": "code",
      "source": [
        "#Grid Search Cross Validation\n",
        "\n",
        "param_grid = {'C': [0.001, 0.01, 0.1, 1,10, 100, 1000], 'penalty':['l2']}"
      ],
      "metadata": {
        "id": "KAmbb4tU1Zxv"
      },
      "execution_count": null,
      "outputs": []
    },
    {
      "cell_type": "code",
      "source": [
        "log_clf = GridSearchCV(LogisticRegression(), param_grid, cv=10, return_train_score=True)\n",
        "log_clf.fit(X_train, y_train)"
      ],
      "metadata": {
        "id": "nk6pYuIq16v1"
      },
      "execution_count": null,
      "outputs": []
    },
    {
      "cell_type": "code",
      "source": [
        "print(\"Best cross-validation score: {:.2f}\".format(log_clf.best_score))\n",
        "print(\"Best parameter: {}\".format(log_clf.best_params_))"
      ],
      "metadata": {
        "id": "6OipEfuZ2NFm"
      },
      "execution_count": null,
      "outputs": []
    },
    {
      "cell_type": "code",
      "source": [
        "log_clf_best = LogisticRegression(C=100, penalty = 'l2', solver ='liblinear')\n",
        "log_clf_best.fit(X_train, y_train)\n",
        "\n",
        "print('Accuracy of Logistic Regression on training set: {:.2f}'.format(log_clf_best.score(X_train, y_train)))\n",
        "print('Accuracy of Logistic Regression on training set: {:.2f}'.format(log_clf_best.score(X_train, y_train)))\n"
      ],
      "metadata": {
        "id": "xhGs-4Bl2rii"
      },
      "execution_count": null,
      "outputs": []
    },
    {
      "cell_type": "code",
      "source": [
        "Lr_Train_Score = log_clf_best.score(X_train, y_train)*100\n",
        "Lr_Test_Score = log_clf_best.score(X_test, y_test)*100"
      ],
      "metadata": {
        "id": "NB4Hjp5e3mnE"
      },
      "execution_count": null,
      "outputs": []
    },
    {
      "cell_type": "code",
      "source": [
        "from sklearn.metrics import confusion_matrix\n",
        "\n",
        "log_train = log_clf_best.predict(X_train)\n",
        "confusion_train = confusion_matrix(y_train, log_train)\n",
        "log_test = log_clf_best.predict(X_test)\n",
        "confusion_test = confusion_matrix(y_test, log_test)\n",
        "\n",
        "print('Logistic Regression for train \\n', confusion_train)\n",
        "print('Logistic Regression for test \\n', confusion_test)"
      ],
      "metadata": {
        "id": "PkB5vA3l5Qhb"
      },
      "execution_count": null,
      "outputs": []
    },
    {
      "cell_type": "code",
      "source": [
        "#Linear SVC \n",
        "\n",
        "from sklearn.svm import LinearSVC\n",
        "\n",
        "lin = LinearSVC()\n",
        "lin.fit(X_train, y_train)\n",
        "print('Train score: {:.2f}'.format(lin.score(X_train, y_train)))\n",
        "print('Test score: {:.2f}'.format(lin.score(X_test, y_test)))"
      ],
      "metadata": {
        "id": "APuU1KzE6hjZ"
      },
      "execution_count": null,
      "outputs": []
    },
    {
      "cell_type": "code",
      "source": [
        "from sklearn.model_selection import cross_val_score\n",
        "\n",
        "LinSVC = LinearSVC()\n",
        "\n",
        "scores = cross_val_score(LinSVC, X, Y, cv=10)\n",
        "print(\"Cross-validation scores: {}\".format(scores))"
      ],
      "metadata": {
        "id": "KvIVmOb371HC"
      },
      "execution_count": null,
      "outputs": []
    },
    {
      "cell_type": "code",
      "source": [
        "print(\"Average cross-validation score: {:.2f}\".format(scores.mean()))"
      ],
      "metadata": {
        "id": "MDOP6o7V8Oaw"
      },
      "execution_count": null,
      "outputs": []
    },
    {
      "cell_type": "code",
      "source": [
        "#Gridsearch with Cross Validation\n",
        "\n",
        "from sklearn.svm import LinearSVC\n",
        "\n",
        "LinSVC = LinearSVC()\n",
        "param_grid = {'C':[0.001, 0.01, 0.1, 1, 10, 100, 1000]}"
      ],
      "metadata": {
        "id": "RK-RdeYg8Y94"
      },
      "execution_count": null,
      "outputs": []
    },
    {
      "cell_type": "code",
      "source": [
        "LinSVC_clf_best = LinearSVC(C=1)\n",
        "LinSVC_clf_best.fit(X_train, y_train)\n"
      ],
      "metadata": {
        "id": "ZyOTVjMV8vTi"
      },
      "execution_count": null,
      "outputs": []
    },
    {
      "cell_type": "code",
      "source": [
        "print(\"Best cross-validation score: {:.2f}\".format(LinSVC_clf.best_score_))\n",
        "print(\"Best parameter: {}\".format(Lin_SVC_clf.best_params_))"
      ],
      "metadata": {
        "id": "oKstJFNw-gTY"
      },
      "execution_count": null,
      "outputs": []
    },
    {
      "cell_type": "code",
      "source": [
        "LinearSVC_clf_best = LinearSVC(C=1)\n",
        "LinSVC_clf_best.fit(X_train, y_train)\n",
        "\n",
        "print('Accuracy of Linear Regression on training set:{:.2f}'.format(LinSVC_clf_best.score(X_train, y_train))\n",
        "print('Accuracy of Linear Regression on test set:{:.2f}'.format(LinSVC_clf_best.score(X_test, y_test)))\n"
      ],
      "metadata": {
        "id": "bJIjuOJA-689"
      },
      "execution_count": null,
      "outputs": []
    },
    {
      "cell_type": "code",
      "source": [
        "LinSVC_Train_Score = LinSVC_clf_best.score(X_train, y_train)*100\n",
        "LinSVC_Test_Score = LinSVC_clf_best.score(X_test, y_test)*100"
      ],
      "metadata": {
        "id": "hrdPyyFvAfFn"
      },
      "execution_count": null,
      "outputs": []
    },
    {
      "cell_type": "code",
      "source": [
        "from sklearn.metrics import confusion_matrix\n",
        "LinSVC_predicted = LinSVC_clf_best.predict(X_test)\n",
        "confusion = confusion_matrix(y_test, LinSVC_predicted)\n",
        "\n",
        "print('Linear SVM\\n', confusion)"
      ],
      "metadata": {
        "id": "iCu47dBQAvNC"
      },
      "execution_count": null,
      "outputs": []
    },
    {
      "cell_type": "code",
      "source": [
        "#GUI using Tkinter Package \n",
        "\n",
        "n.iloc[3267]"
      ],
      "metadata": {
        "id": "gCeXXiugB8w6"
      },
      "execution_count": null,
      "outputs": []
    }
  ]
}